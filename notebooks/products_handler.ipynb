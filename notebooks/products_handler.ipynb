{
 "cells": [
  {
   "cell_type": "markdown",
   "source": [
    "# Work with https://midkam.ru/ database"
   ],
   "metadata": {
    "collapsed": false,
    "pycharm": {
     "name": "#%% md\n"
    }
   }
  },
  {
   "cell_type": "code",
   "execution_count": 20,
   "outputs": [],
   "source": [
    "import pandas as pd"
   ],
   "metadata": {
    "collapsed": false,
    "pycharm": {
     "name": "#%%\n"
    }
   }
  },
  {
   "cell_type": "markdown",
   "source": [
    "## Read csv files"
   ],
   "metadata": {
    "collapsed": false,
    "pycharm": {
     "name": "#%% md\n"
    }
   }
  },
  {
   "cell_type": "code",
   "execution_count": 21,
   "outputs": [],
   "source": [
    "data = {\n",
    "    'kamaz': pd.read_csv('midkam/KamazPrice.csv'),\n",
    "    'gaz': pd.read_csv('midkam/GazPrice.csv'),\n",
    "    'maz': pd.read_csv('midkam/MazPrice.csv')\n",
    "}"
   ],
   "metadata": {
    "collapsed": false,
    "pycharm": {
     "name": "#%%\n"
    }
   }
  },
  {
   "cell_type": "markdown",
   "source": [
    "## Drop columns"
   ],
   "metadata": {
    "collapsed": false,
    "pycharm": {
     "name": "#%% md\n"
    }
   }
  },
  {
   "cell_type": "code",
   "execution_count": 22,
   "outputs": [],
   "source": [
    "data['kamaz'] = data['kamaz'].drop(\n",
    "    columns=['Код заказа', 'Количество заказано', 'Сумма заказа руб.', 'Вес заказа кг.', 'Вес кг.', 'Ед.изм.'])\n",
    "data['gaz'] = data['gaz'].drop(\n",
    "    columns=['Количество', 'Сумма, руб', 'Ед. изм.'])\n",
    "data['maz'] = data['maz'].drop(\n",
    "    columns=['Код заказа', 'Количество заказано', \"Вес кг.\", \"Сумма заказа руб.\", \"Вес заказа кг.\", \"Ед.изм.\"])"
   ],
   "metadata": {
    "collapsed": false,
    "pycharm": {
     "name": "#%%\n"
    }
   }
  },
  {
   "cell_type": "markdown",
   "source": [
    "## Rename columns and change product price"
   ],
   "metadata": {
    "collapsed": false,
    "pycharm": {
     "name": "#%% md\n"
    }
   }
  },
  {
   "cell_type": "code",
   "execution_count": 23,
   "outputs": [],
   "source": [
    "for title in data:\n",
    "    data[title] = data[title].rename(columns={\n",
    "        'Номер по каталогу': 'vendor_code',\n",
    "        'Цена руб': 'price',\n",
    "        'Наименование': 'title'\n",
    "    })\n",
    "    data[title]['price'] = data[title]['price'].replace(',', '', regex=True)\n",
    "    data[title] = data[title].astype({'price': float})\n",
    "    data[title]['price'] *= 1.2"
   ],
   "metadata": {
    "collapsed": false,
    "pycharm": {
     "name": "#%%\n"
    }
   }
  },
  {
   "cell_type": "markdown",
   "source": [
    "## Set product category"
   ],
   "metadata": {
    "collapsed": false,
    "pycharm": {
     "name": "#%% md\n"
    }
   }
  },
  {
   "cell_type": "code",
   "execution_count": 24,
   "outputs": [],
   "source": [
    "data['kamaz']['category'] = 1\n",
    "data['gaz']['category'] = 6\n",
    "data['maz']['category'] = 2"
   ],
   "metadata": {
    "collapsed": false,
    "pycharm": {
     "name": "#%%\n"
    }
   }
  },
  {
   "cell_type": "markdown",
   "source": [
    "## Joining tables"
   ],
   "metadata": {
    "collapsed": false,
    "pycharm": {
     "name": "#%% md\n"
    }
   }
  },
  {
   "cell_type": "code",
   "execution_count": 25,
   "outputs": [
    {
     "data": {
      "text/plain": "     vendor_code                                          title   price  \\\n0         8.3-20                             Автокамера  8.3-20  1440.0   \n1       12.00-16                Автокамера 12.00-16 / г.Барнаул  1500.0   \n2       12.00-24            Автокамера 12.00-24 / г. Нижнекамск  5812.8   \n3              -              Автокамера 1200x500x508 (Барнаул)  7128.0   \n4       13.6-38                  Автокамера 13.6-38   (Барнаул)  3120.0   \n...          ...                                            ...     ...   \n5718       40001            Ящик инструментальный МАЗ (пластик)  6234.0   \n5719         NaN  Ящик тара до 500кг дл-110мм шир-75мм выс-78мм  1320.0   \n5720       5336-                       Ящик-тара для стекол МАЗ  2640.0   \n5721       6430-                  Ящик-тара для стекол МАЗ 6430  3300.0   \n5722         NaN                                            NaN     NaN   \n\n      category  \n0            1  \n1            1  \n2            1  \n3            1  \n4            1  \n...        ...  \n5718         2  \n5719         2  \n5720         2  \n5721         2  \n5722         2  \n\n[27041 rows x 4 columns]",
      "text/html": "<div>\n<style scoped>\n    .dataframe tbody tr th:only-of-type {\n        vertical-align: middle;\n    }\n\n    .dataframe tbody tr th {\n        vertical-align: top;\n    }\n\n    .dataframe thead th {\n        text-align: right;\n    }\n</style>\n<table border=\"1\" class=\"dataframe\">\n  <thead>\n    <tr style=\"text-align: right;\">\n      <th></th>\n      <th>vendor_code</th>\n      <th>title</th>\n      <th>price</th>\n      <th>category</th>\n    </tr>\n  </thead>\n  <tbody>\n    <tr>\n      <th>0</th>\n      <td>8.3-20</td>\n      <td>Автокамера  8.3-20</td>\n      <td>1440.0</td>\n      <td>1</td>\n    </tr>\n    <tr>\n      <th>1</th>\n      <td>12.00-16</td>\n      <td>Автокамера 12.00-16 / г.Барнаул</td>\n      <td>1500.0</td>\n      <td>1</td>\n    </tr>\n    <tr>\n      <th>2</th>\n      <td>12.00-24</td>\n      <td>Автокамера 12.00-24 / г. Нижнекамск</td>\n      <td>5812.8</td>\n      <td>1</td>\n    </tr>\n    <tr>\n      <th>3</th>\n      <td>-</td>\n      <td>Автокамера 1200x500x508 (Барнаул)</td>\n      <td>7128.0</td>\n      <td>1</td>\n    </tr>\n    <tr>\n      <th>4</th>\n      <td>13.6-38</td>\n      <td>Автокамера 13.6-38   (Барнаул)</td>\n      <td>3120.0</td>\n      <td>1</td>\n    </tr>\n    <tr>\n      <th>...</th>\n      <td>...</td>\n      <td>...</td>\n      <td>...</td>\n      <td>...</td>\n    </tr>\n    <tr>\n      <th>5718</th>\n      <td>40001</td>\n      <td>Ящик инструментальный МАЗ (пластик)</td>\n      <td>6234.0</td>\n      <td>2</td>\n    </tr>\n    <tr>\n      <th>5719</th>\n      <td>NaN</td>\n      <td>Ящик тара до 500кг дл-110мм шир-75мм выс-78мм</td>\n      <td>1320.0</td>\n      <td>2</td>\n    </tr>\n    <tr>\n      <th>5720</th>\n      <td>5336-</td>\n      <td>Ящик-тара для стекол МАЗ</td>\n      <td>2640.0</td>\n      <td>2</td>\n    </tr>\n    <tr>\n      <th>5721</th>\n      <td>6430-</td>\n      <td>Ящик-тара для стекол МАЗ 6430</td>\n      <td>3300.0</td>\n      <td>2</td>\n    </tr>\n    <tr>\n      <th>5722</th>\n      <td>NaN</td>\n      <td>NaN</td>\n      <td>NaN</td>\n      <td>2</td>\n    </tr>\n  </tbody>\n</table>\n<p>27041 rows × 4 columns</p>\n</div>"
     },
     "execution_count": 25,
     "metadata": {},
     "output_type": "execute_result"
    }
   ],
   "source": [
    "midkam_data = pd.concat(data.values())\n",
    "midkam_data"
   ],
   "metadata": {
    "collapsed": false,
    "pycharm": {
     "name": "#%%\n"
    }
   }
  },
  {
   "cell_type": "markdown",
   "source": [
    "# Work with DR database from their website"
   ],
   "metadata": {
    "collapsed": false,
    "pycharm": {
     "name": "#%% md\n"
    }
   }
  },
  {
   "cell_type": "code",
   "execution_count": 26,
   "outputs": [
    {
     "data": {
      "text/plain": "                                        vendor_code  \\\n0                                     55111-2918068   \n1                                   55111-2918070-1   \n2                                 55111-2918070-1-1   \n3                                    740.1003010-20   \n4                                    740.30-1003010   \n..                                              ...   \n149                                 C700 VW 717-150   \n150                                 C700 VW 717-078   \n151                                        6.1-7.01   \n152                                  6.5.1-17.01.03   \n153  4043976/2835142/4955962/3782369/3782376/HE221W   \n\n                                                 title  \\\n0                Башмак балансира с алюминевой втулкой   \n1                 Башмак балансира с бронзовой втулкой   \n2            Башмак балансира с фторопластовой втулкой   \n3                Головка блока цилиндров Камаз в сборе   \n4    Головка блока цилиндров Камаз ЕВРО-1, 2, 3 в с...   \n..                                                 ...   \n149  ГУР (Механизм рулевой) КАМАЗ-65221 C700 VW 717...   \n150  ГУР (Механизм рулевой) КАМАЗ-6520 C700 VW 717-...   \n151  Турбокомпрессор ПАЗ дв. 245.7,245.9 Евро-2 (6....   \n152  Турбокомпрессор ГАЗ, ММЗ Д-245.7Е3 ТКР 6.5.1-1...   \n153  Турбокомпрессор ЕВРО-3  HE 221 W (4ISBe) двига...   \n\n                                     short_description  \\\n0    Торговая марка: КАМАЗАртикул: 5511-2918068Габа...   \n1    Торговая марка: КАМАЗАртикул: 5511-2918068Габа...   \n2    Торговая марка: КАМАЗАртикул: 5511-2918068Габа...   \n3    Производитель: КАМАЗАртикул: 740-1003010-20Шир...   \n4    Производитель: КАМАЗАртикул: 740.30-1003010Шир...   \n..                                                 ...   \n149  Применяется на а/м КАМАЗ: 6522, 65224, 65225, ...   \n150  Механизм рулевой ГУР Камаз, УРАЛ C700 V 717-07...   \n151  Регулируемый турбокомпрессор с перепуском газа...   \n152  Турбокомпрессор предназначен для комплектации ...   \n153  Турбокомпрессор ЕВРО-3  HE 221 W (4ISBe) двига...   \n\n                                           description    price  category  \\\n0    Башмак балансира с алюминиевой втулкойАртикул:...   4050.0         1   \n1    Башмак балансира с бронзовой втулкой КамАЗАрти...   5150.0         1   \n2    Башмак балансира с фторопластовой втулкойАртик...   4350.0         1   \n3    Головка блока цилиндров Камаз в сборе 740.1003...   3000.0         1   \n4    Головка блока КамАЗ ЕВРО(740.30-1003010)Головк...   5000.0         1   \n..                                                 ...      ...       ...   \n149  Применяется на а/м КАМАЗ: 6522, 65224, 65225, ...  44000.0         1   \n150  Механизм рулевой ГУР Камаз, УРАЛ C700 V 717-07...  45000.0         1   \n151  Регулируемый турбокомпрессор с перепуском газа...  13500.0         5   \n152  Турбокомпрессор предназначен для комплектации ...  13500.0         6   \n153  Турбокомпрессор ЕВРО-3  HE 221 W (4ISBe) двига...  22800.0         1   \n\n                              image_original  \\\n0           original/IMG_20190703_101637.jpg   \n1           original/IMG_20190703_101637.jpg   \n2           original/IMG_20190703_101637.jpg   \n3           original/IMG_20190619_134642.jpg   \n4    original/IMG_20190520_103858-scaled.jpg   \n..                                       ...   \n149  original/IMG_20190315_131613-scaled.jpg   \n150     original/IMG_1434-06-10-21-09-03.jpg   \n151      original/запчасть-на-фотосессии.jpg   \n152      original/запчасть-на-фотосессии.jpg   \n153      original/запчасть-на-фотосессии.jpg   \n\n                                   image_128  \\\n0           128/128__IMG_20190703_101637.jpg   \n1           128/128__IMG_20190703_101637.jpg   \n2           128/128__IMG_20190703_101637.jpg   \n3           128/128__IMG_20190619_134642.jpg   \n4    128/128__IMG_20190520_103858-scaled.jpg   \n..                                       ...   \n149  128/128__IMG_20190315_131613-scaled.jpg   \n150     128/128__IMG_1434-06-10-21-09-03.jpg   \n151      128/128__запчасть-на-фотосессии.jpg   \n152      128/128__запчасть-на-фотосессии.jpg   \n153      128/128__запчасть-на-фотосессии.jpg   \n\n                                   image_432  \n0           432/432__IMG_20190703_101637.jpg  \n1           432/432__IMG_20190703_101637.jpg  \n2           432/432__IMG_20190703_101637.jpg  \n3           432/432__IMG_20190619_134642.jpg  \n4    432/432__IMG_20190520_103858-scaled.jpg  \n..                                       ...  \n149  432/432__IMG_20190315_131613-scaled.jpg  \n150     432/432__IMG_1434-06-10-21-09-03.jpg  \n151      432/432__запчасть-на-фотосессии.jpg  \n152      432/432__запчасть-на-фотосессии.jpg  \n153      432/432__запчасть-на-фотосессии.jpg  \n\n[154 rows x 9 columns]",
      "text/html": "<div>\n<style scoped>\n    .dataframe tbody tr th:only-of-type {\n        vertical-align: middle;\n    }\n\n    .dataframe tbody tr th {\n        vertical-align: top;\n    }\n\n    .dataframe thead th {\n        text-align: right;\n    }\n</style>\n<table border=\"1\" class=\"dataframe\">\n  <thead>\n    <tr style=\"text-align: right;\">\n      <th></th>\n      <th>vendor_code</th>\n      <th>title</th>\n      <th>short_description</th>\n      <th>description</th>\n      <th>price</th>\n      <th>category</th>\n      <th>image_original</th>\n      <th>image_128</th>\n      <th>image_432</th>\n    </tr>\n  </thead>\n  <tbody>\n    <tr>\n      <th>0</th>\n      <td>55111-2918068</td>\n      <td>Башмак балансира с алюминевой втулкой</td>\n      <td>Торговая марка: КАМАЗАртикул: 5511-2918068Габа...</td>\n      <td>Башмак балансира с алюминиевой втулкойАртикул:...</td>\n      <td>4050.0</td>\n      <td>1</td>\n      <td>original/IMG_20190703_101637.jpg</td>\n      <td>128/128__IMG_20190703_101637.jpg</td>\n      <td>432/432__IMG_20190703_101637.jpg</td>\n    </tr>\n    <tr>\n      <th>1</th>\n      <td>55111-2918070-1</td>\n      <td>Башмак балансира с бронзовой втулкой</td>\n      <td>Торговая марка: КАМАЗАртикул: 5511-2918068Габа...</td>\n      <td>Башмак балансира с бронзовой втулкой КамАЗАрти...</td>\n      <td>5150.0</td>\n      <td>1</td>\n      <td>original/IMG_20190703_101637.jpg</td>\n      <td>128/128__IMG_20190703_101637.jpg</td>\n      <td>432/432__IMG_20190703_101637.jpg</td>\n    </tr>\n    <tr>\n      <th>2</th>\n      <td>55111-2918070-1-1</td>\n      <td>Башмак балансира с фторопластовой втулкой</td>\n      <td>Торговая марка: КАМАЗАртикул: 5511-2918068Габа...</td>\n      <td>Башмак балансира с фторопластовой втулкойАртик...</td>\n      <td>4350.0</td>\n      <td>1</td>\n      <td>original/IMG_20190703_101637.jpg</td>\n      <td>128/128__IMG_20190703_101637.jpg</td>\n      <td>432/432__IMG_20190703_101637.jpg</td>\n    </tr>\n    <tr>\n      <th>3</th>\n      <td>740.1003010-20</td>\n      <td>Головка блока цилиндров Камаз в сборе</td>\n      <td>Производитель: КАМАЗАртикул: 740-1003010-20Шир...</td>\n      <td>Головка блока цилиндров Камаз в сборе 740.1003...</td>\n      <td>3000.0</td>\n      <td>1</td>\n      <td>original/IMG_20190619_134642.jpg</td>\n      <td>128/128__IMG_20190619_134642.jpg</td>\n      <td>432/432__IMG_20190619_134642.jpg</td>\n    </tr>\n    <tr>\n      <th>4</th>\n      <td>740.30-1003010</td>\n      <td>Головка блока цилиндров Камаз ЕВРО-1, 2, 3 в с...</td>\n      <td>Производитель: КАМАЗАртикул: 740.30-1003010Шир...</td>\n      <td>Головка блока КамАЗ ЕВРО(740.30-1003010)Головк...</td>\n      <td>5000.0</td>\n      <td>1</td>\n      <td>original/IMG_20190520_103858-scaled.jpg</td>\n      <td>128/128__IMG_20190520_103858-scaled.jpg</td>\n      <td>432/432__IMG_20190520_103858-scaled.jpg</td>\n    </tr>\n    <tr>\n      <th>...</th>\n      <td>...</td>\n      <td>...</td>\n      <td>...</td>\n      <td>...</td>\n      <td>...</td>\n      <td>...</td>\n      <td>...</td>\n      <td>...</td>\n      <td>...</td>\n    </tr>\n    <tr>\n      <th>149</th>\n      <td>C700 VW 717-150</td>\n      <td>ГУР (Механизм рулевой) КАМАЗ-65221 C700 VW 717...</td>\n      <td>Применяется на а/м КАМАЗ: 6522, 65224, 65225, ...</td>\n      <td>Применяется на а/м КАМАЗ: 6522, 65224, 65225, ...</td>\n      <td>44000.0</td>\n      <td>1</td>\n      <td>original/IMG_20190315_131613-scaled.jpg</td>\n      <td>128/128__IMG_20190315_131613-scaled.jpg</td>\n      <td>432/432__IMG_20190315_131613-scaled.jpg</td>\n    </tr>\n    <tr>\n      <th>150</th>\n      <td>C700 VW 717-078</td>\n      <td>ГУР (Механизм рулевой) КАМАЗ-6520 C700 VW 717-...</td>\n      <td>Механизм рулевой ГУР Камаз, УРАЛ C700 V 717-07...</td>\n      <td>Механизм рулевой ГУР Камаз, УРАЛ C700 V 717-07...</td>\n      <td>45000.0</td>\n      <td>1</td>\n      <td>original/IMG_1434-06-10-21-09-03.jpg</td>\n      <td>128/128__IMG_1434-06-10-21-09-03.jpg</td>\n      <td>432/432__IMG_1434-06-10-21-09-03.jpg</td>\n    </tr>\n    <tr>\n      <th>151</th>\n      <td>6.1-7.01</td>\n      <td>Турбокомпрессор ПАЗ дв. 245.7,245.9 Евро-2 (6....</td>\n      <td>Регулируемый турбокомпрессор с перепуском газа...</td>\n      <td>Регулируемый турбокомпрессор с перепуском газа...</td>\n      <td>13500.0</td>\n      <td>5</td>\n      <td>original/запчасть-на-фотосессии.jpg</td>\n      <td>128/128__запчасть-на-фотосессии.jpg</td>\n      <td>432/432__запчасть-на-фотосессии.jpg</td>\n    </tr>\n    <tr>\n      <th>152</th>\n      <td>6.5.1-17.01.03</td>\n      <td>Турбокомпрессор ГАЗ, ММЗ Д-245.7Е3 ТКР 6.5.1-1...</td>\n      <td>Турбокомпрессор предназначен для комплектации ...</td>\n      <td>Турбокомпрессор предназначен для комплектации ...</td>\n      <td>13500.0</td>\n      <td>6</td>\n      <td>original/запчасть-на-фотосессии.jpg</td>\n      <td>128/128__запчасть-на-фотосессии.jpg</td>\n      <td>432/432__запчасть-на-фотосессии.jpg</td>\n    </tr>\n    <tr>\n      <th>153</th>\n      <td>4043976/2835142/4955962/3782369/3782376/HE221W</td>\n      <td>Турбокомпрессор ЕВРО-3  HE 221 W (4ISBe) двига...</td>\n      <td>Турбокомпрессор ЕВРО-3  HE 221 W (4ISBe) двига...</td>\n      <td>Турбокомпрессор ЕВРО-3  HE 221 W (4ISBe) двига...</td>\n      <td>22800.0</td>\n      <td>1</td>\n      <td>original/запчасть-на-фотосессии.jpg</td>\n      <td>128/128__запчасть-на-фотосессии.jpg</td>\n      <td>432/432__запчасть-на-фотосессии.jpg</td>\n    </tr>\n  </tbody>\n</table>\n<p>154 rows × 9 columns</p>\n</div>"
     },
     "execution_count": 26,
     "metadata": {},
     "output_type": "execute_result"
    }
   ],
   "source": [
    "dt_data = pd.read_csv('datasets/dt_data_1.csv', sep=';')\n",
    "\n",
    "dt_data = dt_data.drop(columns=['id'])\n",
    "\n",
    "dt_data = dt_data.rename(\n",
    "    columns={\n",
    "        'Артикул': 'vendor_code',\n",
    "        'Имя': 'title',\n",
    "        'Краткое описание': 'short_description',\n",
    "        'Описание': 'description',\n",
    "        'Категории': 'category',\n",
    "        'Базовая цена': 'price',\n",
    "        'Изображения': 'image_original'\n",
    "    })\n",
    "\n",
    "dt_data['image_128'] = None\n",
    "dt_data['image_432'] = None\n",
    "\n",
    "for index in range(dt_data.shape[0]):\n",
    "    img_url = dt_data.loc[index, 'image_original']\n",
    "    if type(img_url) != float:\n",
    "        img_name = img_url.split(', ')[0].split('/')[-1]\n",
    "\n",
    "        dt_data.loc[index, 'image_original'] = 'original/' + img_name\n",
    "        dt_data.loc[index, 'image_432'] = '432/432__' + img_name\n",
    "        dt_data.loc[index, 'image_128'] = '128/128__' + img_name\n",
    "\n",
    "dt_data['description'] = dt_data['description'].fillna(dt_data['title'])\n",
    "dt_data['short_description'] = dt_data['short_description'].fillna(dt_data['description'])\n",
    "\n",
    "dt_data = dt_data.fillna(0)\n",
    "\n",
    "dt_data"
   ],
   "metadata": {
    "collapsed": false,
    "pycharm": {
     "name": "#%%\n"
    }
   }
  },
  {
   "cell_type": "markdown",
   "source": [
    "## Drop duplicates and NaN"
   ],
   "metadata": {
    "collapsed": false,
    "pycharm": {
     "name": "#%% md\n"
    }
   }
  },
  {
   "cell_type": "code",
   "execution_count": 27,
   "outputs": [
    {
     "data": {
      "text/plain": "               vendor_code                                              title  \\\n0            55111-2918068              Башмак балансира с алюминевой втулкой   \n1          55111-2918070-1               Башмак балансира с бронзовой втулкой   \n2        55111-2918070-1-1          Башмак балансира с фторопластовой втулкой   \n3           740.1003010-20              Головка блока цилиндров Камаз в сборе   \n4           740.30-1003010  Головка блока цилиндров Камаз ЕВРО-1, 2, 3 в с...   \n...                    ...                                                ...   \n22000          840-1117030            Элемент ФТОТ 840 (Евро-3) (нитка) СЕДАН   \n22001      2501-3708200-21  Якорь (для старт.2501.3708000-21) 10зуб. н/о П...   \n22002  2501-3708200-20(01)  Якорь стартера МАЗ (11 зубьев) старого образца...   \n22003       СТ-103-3708200             Якорь стартера СТ-103 Алтай (винтовой)   \n22004                40001                Ящик инструментальный МАЗ (пластик)   \n\n                                       short_description  \\\n0      Торговая марка: КАМАЗАртикул: 5511-2918068Габа...   \n1      Торговая марка: КАМАЗАртикул: 5511-2918068Габа...   \n2      Торговая марка: КАМАЗАртикул: 5511-2918068Габа...   \n3      Производитель: КАМАЗАртикул: 740-1003010-20Шир...   \n4      Производитель: КАМАЗАртикул: 740.30-1003010Шир...   \n...                                                  ...   \n22000                                                NaN   \n22001                                                NaN   \n22002                                                NaN   \n22003                                                NaN   \n22004                                                NaN   \n\n                                             description   price  category  \\\n0      Башмак балансира с алюминиевой втулкойАртикул:...  4050.0         1   \n1      Башмак балансира с бронзовой втулкой КамАЗАрти...  5150.0         1   \n2      Башмак балансира с фторопластовой втулкойАртик...  4350.0         1   \n3      Головка блока цилиндров Камаз в сборе 740.1003...  3000.0         1   \n4      Головка блока КамАЗ ЕВРО(740.30-1003010)Головк...  5000.0         1   \n...                                                  ...     ...       ...   \n22000                                                NaN   231.6         2   \n22001                                                NaN  9000.0         2   \n22002                                                NaN  9000.0         2   \n22003                                                NaN  3840.0         2   \n22004                                                NaN  6234.0         2   \n\n                                image_original  \\\n0             original/IMG_20190703_101637.jpg   \n1             original/IMG_20190703_101637.jpg   \n2             original/IMG_20190703_101637.jpg   \n3             original/IMG_20190619_134642.jpg   \n4      original/IMG_20190520_103858-scaled.jpg   \n...                                        ...   \n22000                                      NaN   \n22001                                      NaN   \n22002                                      NaN   \n22003                                      NaN   \n22004                                      NaN   \n\n                                     image_128  \\\n0             128/128__IMG_20190703_101637.jpg   \n1             128/128__IMG_20190703_101637.jpg   \n2             128/128__IMG_20190703_101637.jpg   \n3             128/128__IMG_20190619_134642.jpg   \n4      128/128__IMG_20190520_103858-scaled.jpg   \n...                                        ...   \n22000                                      NaN   \n22001                                      NaN   \n22002                                      NaN   \n22003                                      NaN   \n22004                                      NaN   \n\n                                     image_432  \n0             432/432__IMG_20190703_101637.jpg  \n1             432/432__IMG_20190703_101637.jpg  \n2             432/432__IMG_20190703_101637.jpg  \n3             432/432__IMG_20190619_134642.jpg  \n4      432/432__IMG_20190520_103858-scaled.jpg  \n...                                        ...  \n22000                                      NaN  \n22001                                      NaN  \n22002                                      NaN  \n22003                                      NaN  \n22004                                      NaN  \n\n[22005 rows x 9 columns]",
      "text/html": "<div>\n<style scoped>\n    .dataframe tbody tr th:only-of-type {\n        vertical-align: middle;\n    }\n\n    .dataframe tbody tr th {\n        vertical-align: top;\n    }\n\n    .dataframe thead th {\n        text-align: right;\n    }\n</style>\n<table border=\"1\" class=\"dataframe\">\n  <thead>\n    <tr style=\"text-align: right;\">\n      <th></th>\n      <th>vendor_code</th>\n      <th>title</th>\n      <th>short_description</th>\n      <th>description</th>\n      <th>price</th>\n      <th>category</th>\n      <th>image_original</th>\n      <th>image_128</th>\n      <th>image_432</th>\n    </tr>\n  </thead>\n  <tbody>\n    <tr>\n      <th>0</th>\n      <td>55111-2918068</td>\n      <td>Башмак балансира с алюминевой втулкой</td>\n      <td>Торговая марка: КАМАЗАртикул: 5511-2918068Габа...</td>\n      <td>Башмак балансира с алюминиевой втулкойАртикул:...</td>\n      <td>4050.0</td>\n      <td>1</td>\n      <td>original/IMG_20190703_101637.jpg</td>\n      <td>128/128__IMG_20190703_101637.jpg</td>\n      <td>432/432__IMG_20190703_101637.jpg</td>\n    </tr>\n    <tr>\n      <th>1</th>\n      <td>55111-2918070-1</td>\n      <td>Башмак балансира с бронзовой втулкой</td>\n      <td>Торговая марка: КАМАЗАртикул: 5511-2918068Габа...</td>\n      <td>Башмак балансира с бронзовой втулкой КамАЗАрти...</td>\n      <td>5150.0</td>\n      <td>1</td>\n      <td>original/IMG_20190703_101637.jpg</td>\n      <td>128/128__IMG_20190703_101637.jpg</td>\n      <td>432/432__IMG_20190703_101637.jpg</td>\n    </tr>\n    <tr>\n      <th>2</th>\n      <td>55111-2918070-1-1</td>\n      <td>Башмак балансира с фторопластовой втулкой</td>\n      <td>Торговая марка: КАМАЗАртикул: 5511-2918068Габа...</td>\n      <td>Башмак балансира с фторопластовой втулкойАртик...</td>\n      <td>4350.0</td>\n      <td>1</td>\n      <td>original/IMG_20190703_101637.jpg</td>\n      <td>128/128__IMG_20190703_101637.jpg</td>\n      <td>432/432__IMG_20190703_101637.jpg</td>\n    </tr>\n    <tr>\n      <th>3</th>\n      <td>740.1003010-20</td>\n      <td>Головка блока цилиндров Камаз в сборе</td>\n      <td>Производитель: КАМАЗАртикул: 740-1003010-20Шир...</td>\n      <td>Головка блока цилиндров Камаз в сборе 740.1003...</td>\n      <td>3000.0</td>\n      <td>1</td>\n      <td>original/IMG_20190619_134642.jpg</td>\n      <td>128/128__IMG_20190619_134642.jpg</td>\n      <td>432/432__IMG_20190619_134642.jpg</td>\n    </tr>\n    <tr>\n      <th>4</th>\n      <td>740.30-1003010</td>\n      <td>Головка блока цилиндров Камаз ЕВРО-1, 2, 3 в с...</td>\n      <td>Производитель: КАМАЗАртикул: 740.30-1003010Шир...</td>\n      <td>Головка блока КамАЗ ЕВРО(740.30-1003010)Головк...</td>\n      <td>5000.0</td>\n      <td>1</td>\n      <td>original/IMG_20190520_103858-scaled.jpg</td>\n      <td>128/128__IMG_20190520_103858-scaled.jpg</td>\n      <td>432/432__IMG_20190520_103858-scaled.jpg</td>\n    </tr>\n    <tr>\n      <th>...</th>\n      <td>...</td>\n      <td>...</td>\n      <td>...</td>\n      <td>...</td>\n      <td>...</td>\n      <td>...</td>\n      <td>...</td>\n      <td>...</td>\n      <td>...</td>\n    </tr>\n    <tr>\n      <th>22000</th>\n      <td>840-1117030</td>\n      <td>Элемент ФТОТ 840 (Евро-3) (нитка) СЕДАН</td>\n      <td>NaN</td>\n      <td>NaN</td>\n      <td>231.6</td>\n      <td>2</td>\n      <td>NaN</td>\n      <td>NaN</td>\n      <td>NaN</td>\n    </tr>\n    <tr>\n      <th>22001</th>\n      <td>2501-3708200-21</td>\n      <td>Якорь (для старт.2501.3708000-21) 10зуб. н/о П...</td>\n      <td>NaN</td>\n      <td>NaN</td>\n      <td>9000.0</td>\n      <td>2</td>\n      <td>NaN</td>\n      <td>NaN</td>\n      <td>NaN</td>\n    </tr>\n    <tr>\n      <th>22002</th>\n      <td>2501-3708200-20(01)</td>\n      <td>Якорь стартера МАЗ (11 зубьев) старого образца...</td>\n      <td>NaN</td>\n      <td>NaN</td>\n      <td>9000.0</td>\n      <td>2</td>\n      <td>NaN</td>\n      <td>NaN</td>\n      <td>NaN</td>\n    </tr>\n    <tr>\n      <th>22003</th>\n      <td>СТ-103-3708200</td>\n      <td>Якорь стартера СТ-103 Алтай (винтовой)</td>\n      <td>NaN</td>\n      <td>NaN</td>\n      <td>3840.0</td>\n      <td>2</td>\n      <td>NaN</td>\n      <td>NaN</td>\n      <td>NaN</td>\n    </tr>\n    <tr>\n      <th>22004</th>\n      <td>40001</td>\n      <td>Ящик инструментальный МАЗ (пластик)</td>\n      <td>NaN</td>\n      <td>NaN</td>\n      <td>6234.0</td>\n      <td>2</td>\n      <td>NaN</td>\n      <td>NaN</td>\n      <td>NaN</td>\n    </tr>\n  </tbody>\n</table>\n<p>22005 rows × 9 columns</p>\n</div>"
     },
     "execution_count": 27,
     "metadata": {},
     "output_type": "execute_result"
    }
   ],
   "source": [
    "df = pd.concat([dt_data, midkam_data])\n",
    "\n",
    "df = df.drop_duplicates(subset=['vendor_code'])\n",
    "df = df.drop_duplicates(subset=['title'])\n",
    "df = df.dropna(subset=['vendor_code', 'title'])\n",
    "\n",
    "df.reset_index(drop=True)"
   ],
   "metadata": {
    "collapsed": false,
    "pycharm": {
     "name": "#%%\n"
    }
   }
  },
  {
   "cell_type": "markdown",
   "source": [
    "## Add Spare Part Unit (spu)"
   ],
   "metadata": {
    "collapsed": false,
    "pycharm": {
     "name": "#%% md\n"
    }
   }
  },
  {
   "cell_type": "code",
   "execution_count": 28,
   "outputs": [
    {
     "data": {
      "text/plain": "      vendor_code                                         title   price  \\\n0    5511-2918068        Башмак балансира с аллюминевой втулкой  4800.0   \n1    5511-2918068          Башмак балансира с бронзовой втулкой  6100.0   \n2    5511-2918068     Башмак балансира с фторопластовой втулкой  5150.0   \n3    5320-3422010                         Вал карданный рулевой  1550.0   \n4    4310-3422010                         Вал карданный рулевой  1900.0   \n..            ...                                           ...     ...   \n114   100-3519200                Энергоаккумулятор тип 24 новый  3100.0   \n115   100-3519200             Энергоаккумулятор тип 24 бордовый  3200.0   \n116   661-3519100    Энергоаккумулятор тип 20/20 (матрешка) с/с  2050.0   \n117   661-3519200    Энергоаккумулятор тип 24/20 (матрешка) с/с  2050.0   \n118   661-3519200  Энергоаккумулятор тип 24/20 (матрешка) новый  3000.0   \n\n    category spare_parts_unit  \n0          1                1  \n1          1                1  \n2          1                1  \n3          1                2  \n4          1                1  \n..       ...              ...  \n114        1                2  \n115        1                2  \n116        1                2  \n117        1                2  \n118        1                2  \n\n[119 rows x 5 columns]",
      "text/html": "<div>\n<style scoped>\n    .dataframe tbody tr th:only-of-type {\n        vertical-align: middle;\n    }\n\n    .dataframe tbody tr th {\n        vertical-align: top;\n    }\n\n    .dataframe thead th {\n        text-align: right;\n    }\n</style>\n<table border=\"1\" class=\"dataframe\">\n  <thead>\n    <tr style=\"text-align: right;\">\n      <th></th>\n      <th>vendor_code</th>\n      <th>title</th>\n      <th>price</th>\n      <th>category</th>\n      <th>spare_parts_unit</th>\n    </tr>\n  </thead>\n  <tbody>\n    <tr>\n      <th>0</th>\n      <td>5511-2918068</td>\n      <td>Башмак балансира с аллюминевой втулкой</td>\n      <td>4800.0</td>\n      <td>1</td>\n      <td>1</td>\n    </tr>\n    <tr>\n      <th>1</th>\n      <td>5511-2918068</td>\n      <td>Башмак балансира с бронзовой втулкой</td>\n      <td>6100.0</td>\n      <td>1</td>\n      <td>1</td>\n    </tr>\n    <tr>\n      <th>2</th>\n      <td>5511-2918068</td>\n      <td>Башмак балансира с фторопластовой втулкой</td>\n      <td>5150.0</td>\n      <td>1</td>\n      <td>1</td>\n    </tr>\n    <tr>\n      <th>3</th>\n      <td>5320-3422010</td>\n      <td>Вал карданный рулевой</td>\n      <td>1550.0</td>\n      <td>1</td>\n      <td>2</td>\n    </tr>\n    <tr>\n      <th>4</th>\n      <td>4310-3422010</td>\n      <td>Вал карданный рулевой</td>\n      <td>1900.0</td>\n      <td>1</td>\n      <td>1</td>\n    </tr>\n    <tr>\n      <th>...</th>\n      <td>...</td>\n      <td>...</td>\n      <td>...</td>\n      <td>...</td>\n      <td>...</td>\n    </tr>\n    <tr>\n      <th>114</th>\n      <td>100-3519200</td>\n      <td>Энергоаккумулятор тип 24 новый</td>\n      <td>3100.0</td>\n      <td>1</td>\n      <td>2</td>\n    </tr>\n    <tr>\n      <th>115</th>\n      <td>100-3519200</td>\n      <td>Энергоаккумулятор тип 24 бордовый</td>\n      <td>3200.0</td>\n      <td>1</td>\n      <td>2</td>\n    </tr>\n    <tr>\n      <th>116</th>\n      <td>661-3519100</td>\n      <td>Энергоаккумулятор тип 20/20 (матрешка) с/с</td>\n      <td>2050.0</td>\n      <td>1</td>\n      <td>2</td>\n    </tr>\n    <tr>\n      <th>117</th>\n      <td>661-3519200</td>\n      <td>Энергоаккумулятор тип 24/20 (матрешка) с/с</td>\n      <td>2050.0</td>\n      <td>1</td>\n      <td>2</td>\n    </tr>\n    <tr>\n      <th>118</th>\n      <td>661-3519200</td>\n      <td>Энергоаккумулятор тип 24/20 (матрешка) новый</td>\n      <td>3000.0</td>\n      <td>1</td>\n      <td>2</td>\n    </tr>\n  </tbody>\n</table>\n<p>119 rows × 5 columns</p>\n</div>"
     },
     "execution_count": 28,
     "metadata": {},
     "output_type": "execute_result"
    }
   ],
   "source": [
    "new_data = pd.read_excel('datasets/production.xlsx')\n",
    "\n",
    "new_data = new_data.rename(columns={\n",
    "    'Каталожный номер': 'vendor_code',\n",
    "    'Наименование товара': 'title',\n",
    "    'безнал': 'price',\n",
    "    'Категория': 'category',\n",
    "    'Подкатегория': 'spare_parts_unit'\n",
    "})\n",
    "\n",
    "new_data = new_data.drop(columns=['Цена наличка'])\n",
    "\n",
    "categories = {\n",
    "    'КамАЗ': 1,\n",
    "    'МАЗ': 2,\n",
    "    'ЗИЛ': 3,\n",
    "    'Зил': 3,\n",
    "    \"УРАЛ\": 4,\n",
    "    'Урал': 4,\n",
    "    \"ПАЗ\": 5,\n",
    "    \"ГАЗ\": 6\n",
    "}\n",
    "\n",
    "spare_parts_units = {\n",
    "    'Ходовая Часть': 1,\n",
    "    'Механизмы управления': 2,\n",
    "    'Двигатель': 3,\n",
    "    'Дополнительное оборудование': 4,\n",
    "    'Трансмиссия': 5\n",
    "}\n",
    "\n",
    "\n",
    "new_data['price'] = new_data['price'].astype({'price': float})\n",
    "\n",
    "for cat in categories:\n",
    "    new_data['category'] = new_data['category'].replace(cat, categories[cat], regex=True)\n",
    "\n",
    "for unit in spare_parts_units:\n",
    "    new_data['spare_parts_unit'] = new_data['spare_parts_unit'].replace(unit, spare_parts_units[unit], regex=True)\n",
    "\n",
    "new_data"
   ],
   "metadata": {
    "collapsed": false,
    "pycharm": {
     "name": "#%%\n"
    }
   }
  },
  {
   "cell_type": "markdown",
   "source": [
    "## Merge tables last_dt and new_dt"
   ],
   "metadata": {
    "collapsed": false,
    "pycharm": {
     "name": "#%% md\n"
    }
   }
  },
  {
   "cell_type": "code",
   "execution_count": 29,
   "outputs": [
    {
     "data": {
      "text/plain": "      vendor_code                                         title   price  \\\n0    5511-2918068        Башмак балансира с аллюминевой втулкой  4800.0   \n1    5511-2918068          Башмак балансира с бронзовой втулкой  6100.0   \n2    5511-2918068     Башмак балансира с фторопластовой втулкой  5150.0   \n3    5320-3422010                         Вал карданный рулевой  1550.0   \n4    4310-3422010                         Вал карданный рулевой  1900.0   \n..            ...                                           ...     ...   \n114   100-3519200                Энергоаккумулятор тип 24 новый  3100.0   \n115   100-3519200             Энергоаккумулятор тип 24 бордовый  3200.0   \n116   661-3519100    Энергоаккумулятор тип 20/20 (матрешка) с/с  2050.0   \n117   661-3519200    Энергоаккумулятор тип 24/20 (матрешка) с/с  2050.0   \n118   661-3519200  Энергоаккумулятор тип 24/20 (матрешка) новый  3000.0   \n\n    category spare_parts_unit  \\\n0          1                1   \n1          1                1   \n2          1                1   \n3          1                2   \n4          1                1   \n..       ...              ...   \n114        1                2   \n115        1                2   \n116        1                2   \n117        1                2   \n118        1                2   \n\n                                     short_description  \\\n0                                                  NaN   \n1                                                  NaN   \n2                                                  NaN   \n3                     Вал карданный рулевой КАМАЗ 5320   \n4                     Вал карданный рулевой КАМАЗ 4310   \n..                                                 ...   \n114  &nbsp;Предназначен для привода в действие торм...   \n115  &nbsp;Предназначен для привода в действие торм...   \n116                                                NaN   \n117  Энергоаккумулятор КАМАЗ-43114,65140,65115 ново...   \n118  Энергоаккумулятор КАМАЗ-43114,65140,65115 ново...   \n\n                                           description  \\\n0                                                  NaN   \n1                                                  NaN   \n2                                                  NaN   \n3                     Вал карданный рулевой КАМАЗ 5320   \n4                     Вал карданный рулевой КАМАЗ 4310   \n..                                                 ...   \n114  &nbsp;Предназначен для привода в действие торм...   \n115  &nbsp;Предназначен для привода в действие торм...   \n116                                                NaN   \n117  Энергоаккумулятор КАМАЗ-43114,65140,65115 ново...   \n118  Энергоаккумулятор КАМАЗ-43114,65140,65115 ново...   \n\n                                 image_original  \\\n0                                           NaN   \n1                                           NaN   \n2                                           NaN   \n3           original/запчасть-на-фотосессии.jpg   \n4           original/запчасть-на-фотосессии.jpg   \n..                                          ...   \n114     original/IMG_20200227_092811-scaled.jpg   \n115     original/IMG_20200227_092811-scaled.jpg   \n116                                         NaN   \n117  original/Energoakkumulyatory-tip-24-20.jpg   \n118  original/Energoakkumulyatory-tip-24-20.jpg   \n\n                                      image_128  \\\n0                                           NaN   \n1                                           NaN   \n2                                           NaN   \n3           128/128__запчасть-на-фотосессии.jpg   \n4           128/128__запчасть-на-фотосессии.jpg   \n..                                          ...   \n114     128/128__IMG_20200227_092811-scaled.jpg   \n115     128/128__IMG_20200227_092811-scaled.jpg   \n116                                         NaN   \n117  128/128__Energoakkumulyatory-tip-24-20.jpg   \n118  128/128__Energoakkumulyatory-tip-24-20.jpg   \n\n                                      image_432  \n0                                           NaN  \n1                                           NaN  \n2                                           NaN  \n3           432/432__запчасть-на-фотосессии.jpg  \n4           432/432__запчасть-на-фотосессии.jpg  \n..                                          ...  \n114     432/432__IMG_20200227_092811-scaled.jpg  \n115     432/432__IMG_20200227_092811-scaled.jpg  \n116                                         NaN  \n117  432/432__Energoakkumulyatory-tip-24-20.jpg  \n118  432/432__Energoakkumulyatory-tip-24-20.jpg  \n\n[119 rows x 10 columns]",
      "text/html": "<div>\n<style scoped>\n    .dataframe tbody tr th:only-of-type {\n        vertical-align: middle;\n    }\n\n    .dataframe tbody tr th {\n        vertical-align: top;\n    }\n\n    .dataframe thead th {\n        text-align: right;\n    }\n</style>\n<table border=\"1\" class=\"dataframe\">\n  <thead>\n    <tr style=\"text-align: right;\">\n      <th></th>\n      <th>vendor_code</th>\n      <th>title</th>\n      <th>price</th>\n      <th>category</th>\n      <th>spare_parts_unit</th>\n      <th>short_description</th>\n      <th>description</th>\n      <th>image_original</th>\n      <th>image_128</th>\n      <th>image_432</th>\n    </tr>\n  </thead>\n  <tbody>\n    <tr>\n      <th>0</th>\n      <td>5511-2918068</td>\n      <td>Башмак балансира с аллюминевой втулкой</td>\n      <td>4800.0</td>\n      <td>1</td>\n      <td>1</td>\n      <td>NaN</td>\n      <td>NaN</td>\n      <td>NaN</td>\n      <td>NaN</td>\n      <td>NaN</td>\n    </tr>\n    <tr>\n      <th>1</th>\n      <td>5511-2918068</td>\n      <td>Башмак балансира с бронзовой втулкой</td>\n      <td>6100.0</td>\n      <td>1</td>\n      <td>1</td>\n      <td>NaN</td>\n      <td>NaN</td>\n      <td>NaN</td>\n      <td>NaN</td>\n      <td>NaN</td>\n    </tr>\n    <tr>\n      <th>2</th>\n      <td>5511-2918068</td>\n      <td>Башмак балансира с фторопластовой втулкой</td>\n      <td>5150.0</td>\n      <td>1</td>\n      <td>1</td>\n      <td>NaN</td>\n      <td>NaN</td>\n      <td>NaN</td>\n      <td>NaN</td>\n      <td>NaN</td>\n    </tr>\n    <tr>\n      <th>3</th>\n      <td>5320-3422010</td>\n      <td>Вал карданный рулевой</td>\n      <td>1550.0</td>\n      <td>1</td>\n      <td>2</td>\n      <td>Вал карданный рулевой КАМАЗ 5320</td>\n      <td>Вал карданный рулевой КАМАЗ 5320</td>\n      <td>original/запчасть-на-фотосессии.jpg</td>\n      <td>128/128__запчасть-на-фотосессии.jpg</td>\n      <td>432/432__запчасть-на-фотосессии.jpg</td>\n    </tr>\n    <tr>\n      <th>4</th>\n      <td>4310-3422010</td>\n      <td>Вал карданный рулевой</td>\n      <td>1900.0</td>\n      <td>1</td>\n      <td>1</td>\n      <td>Вал карданный рулевой КАМАЗ 4310</td>\n      <td>Вал карданный рулевой КАМАЗ 4310</td>\n      <td>original/запчасть-на-фотосессии.jpg</td>\n      <td>128/128__запчасть-на-фотосессии.jpg</td>\n      <td>432/432__запчасть-на-фотосессии.jpg</td>\n    </tr>\n    <tr>\n      <th>...</th>\n      <td>...</td>\n      <td>...</td>\n      <td>...</td>\n      <td>...</td>\n      <td>...</td>\n      <td>...</td>\n      <td>...</td>\n      <td>...</td>\n      <td>...</td>\n      <td>...</td>\n    </tr>\n    <tr>\n      <th>114</th>\n      <td>100-3519200</td>\n      <td>Энергоаккумулятор тип 24 новый</td>\n      <td>3100.0</td>\n      <td>1</td>\n      <td>2</td>\n      <td>&amp;nbsp;Предназначен для привода в действие торм...</td>\n      <td>&amp;nbsp;Предназначен для привода в действие торм...</td>\n      <td>original/IMG_20200227_092811-scaled.jpg</td>\n      <td>128/128__IMG_20200227_092811-scaled.jpg</td>\n      <td>432/432__IMG_20200227_092811-scaled.jpg</td>\n    </tr>\n    <tr>\n      <th>115</th>\n      <td>100-3519200</td>\n      <td>Энергоаккумулятор тип 24 бордовый</td>\n      <td>3200.0</td>\n      <td>1</td>\n      <td>2</td>\n      <td>&amp;nbsp;Предназначен для привода в действие торм...</td>\n      <td>&amp;nbsp;Предназначен для привода в действие торм...</td>\n      <td>original/IMG_20200227_092811-scaled.jpg</td>\n      <td>128/128__IMG_20200227_092811-scaled.jpg</td>\n      <td>432/432__IMG_20200227_092811-scaled.jpg</td>\n    </tr>\n    <tr>\n      <th>116</th>\n      <td>661-3519100</td>\n      <td>Энергоаккумулятор тип 20/20 (матрешка) с/с</td>\n      <td>2050.0</td>\n      <td>1</td>\n      <td>2</td>\n      <td>NaN</td>\n      <td>NaN</td>\n      <td>NaN</td>\n      <td>NaN</td>\n      <td>NaN</td>\n    </tr>\n    <tr>\n      <th>117</th>\n      <td>661-3519200</td>\n      <td>Энергоаккумулятор тип 24/20 (матрешка) с/с</td>\n      <td>2050.0</td>\n      <td>1</td>\n      <td>2</td>\n      <td>Энергоаккумулятор КАМАЗ-43114,65140,65115 ново...</td>\n      <td>Энергоаккумулятор КАМАЗ-43114,65140,65115 ново...</td>\n      <td>original/Energoakkumulyatory-tip-24-20.jpg</td>\n      <td>128/128__Energoakkumulyatory-tip-24-20.jpg</td>\n      <td>432/432__Energoakkumulyatory-tip-24-20.jpg</td>\n    </tr>\n    <tr>\n      <th>118</th>\n      <td>661-3519200</td>\n      <td>Энергоаккумулятор тип 24/20 (матрешка) новый</td>\n      <td>3000.0</td>\n      <td>1</td>\n      <td>2</td>\n      <td>Энергоаккумулятор КАМАЗ-43114,65140,65115 ново...</td>\n      <td>Энергоаккумулятор КАМАЗ-43114,65140,65115 ново...</td>\n      <td>original/Energoakkumulyatory-tip-24-20.jpg</td>\n      <td>128/128__Energoakkumulyatory-tip-24-20.jpg</td>\n      <td>432/432__Energoakkumulyatory-tip-24-20.jpg</td>\n    </tr>\n  </tbody>\n</table>\n<p>119 rows × 10 columns</p>\n</div>"
     },
     "execution_count": 29,
     "metadata": {},
     "output_type": "execute_result"
    }
   ],
   "source": [
    "df1 = new_data.merge(df, on=['vendor_code'], how='left')\n",
    "\n",
    "df1 = df1.drop(columns=['title_y', 'category_y', 'price_y'])\n",
    "df1 = df1.rename(columns={\n",
    "    'title_x': 'title',\n",
    "    'price_x': 'price',\n",
    "    'category_x': 'category'\n",
    "})\n",
    "\n",
    "df1"
   ],
   "metadata": {
    "collapsed": false,
    "pycharm": {
     "name": "#%%\n"
    }
   }
  },
  {
   "cell_type": "markdown",
   "source": [
    "## Concat tables dt and midakm"
   ],
   "metadata": {
    "collapsed": false,
    "pycharm": {
     "name": "#%% md\n"
    }
   }
  },
  {
   "cell_type": "code",
   "execution_count": 30,
   "outputs": [
    {
     "data": {
      "text/plain": "               vendor_code                                              title  \\\n0             5511-2918068             Башмак балансира с аллюминевой втулкой   \n1             5511-2918068               Башмак балансира с бронзовой втулкой   \n2             5511-2918068          Башмак балансира с фторопластовой втулкой   \n3             5320-3422010                              Вал карданный рулевой   \n4             4310-3422010                              Вал карданный рулевой   \n...                    ...                                                ...   \n22112          840-1117030            Элемент ФТОТ 840 (Евро-3) (нитка) СЕДАН   \n22113      2501-3708200-21  Якорь (для старт.2501.3708000-21) 10зуб. н/о П...   \n22114  2501-3708200-20(01)  Якорь стартера МАЗ (11 зубьев) старого образца...   \n22115       СТ-103-3708200             Якорь стартера СТ-103 Алтай (винтовой)   \n22116                40001                Ящик инструментальный МАЗ (пластик)   \n\n        price category spare_parts_unit                 short_description  \\\n0      4800.0        1                1                               NaN   \n1      6100.0        1                1                               NaN   \n2      5150.0        1                1                               NaN   \n3      1550.0        1                2  Вал карданный рулевой КАМАЗ 5320   \n4      1900.0        1                1  Вал карданный рулевой КАМАЗ 4310   \n...       ...      ...              ...                               ...   \n22112   231.6        2                                                NaN   \n22113  9000.0        2                                                NaN   \n22114  9000.0        2                                                NaN   \n22115  3840.0        2                                                NaN   \n22116  6234.0        2                                                NaN   \n\n                            description                       image_original  \\\n0                                   NaN                                  NaN   \n1                                   NaN                                  NaN   \n2                                   NaN                                  NaN   \n3      Вал карданный рулевой КАМАЗ 5320  original/запчасть-на-фотосессии.jpg   \n4      Вал карданный рулевой КАМАЗ 4310  original/запчасть-на-фотосессии.jpg   \n...                                 ...                                  ...   \n22112                               NaN                                  NaN   \n22113                               NaN                                  NaN   \n22114                               NaN                                  NaN   \n22115                               NaN                                  NaN   \n22116                               NaN                                  NaN   \n\n                                 image_128  \\\n0                                      NaN   \n1                                      NaN   \n2                                      NaN   \n3      128/128__запчасть-на-фотосессии.jpg   \n4      128/128__запчасть-на-фотосессии.jpg   \n...                                    ...   \n22112                                  NaN   \n22113                                  NaN   \n22114                                  NaN   \n22115                                  NaN   \n22116                                  NaN   \n\n                                 image_432  \n0                                      NaN  \n1                                      NaN  \n2                                      NaN  \n3      432/432__запчасть-на-фотосессии.jpg  \n4      432/432__запчасть-на-фотосессии.jpg  \n...                                    ...  \n22112                                  NaN  \n22113                                  NaN  \n22114                                  NaN  \n22115                                  NaN  \n22116                                  NaN  \n\n[22117 rows x 10 columns]",
      "text/html": "<div>\n<style scoped>\n    .dataframe tbody tr th:only-of-type {\n        vertical-align: middle;\n    }\n\n    .dataframe tbody tr th {\n        vertical-align: top;\n    }\n\n    .dataframe thead th {\n        text-align: right;\n    }\n</style>\n<table border=\"1\" class=\"dataframe\">\n  <thead>\n    <tr style=\"text-align: right;\">\n      <th></th>\n      <th>vendor_code</th>\n      <th>title</th>\n      <th>price</th>\n      <th>category</th>\n      <th>spare_parts_unit</th>\n      <th>short_description</th>\n      <th>description</th>\n      <th>image_original</th>\n      <th>image_128</th>\n      <th>image_432</th>\n    </tr>\n  </thead>\n  <tbody>\n    <tr>\n      <th>0</th>\n      <td>5511-2918068</td>\n      <td>Башмак балансира с аллюминевой втулкой</td>\n      <td>4800.0</td>\n      <td>1</td>\n      <td>1</td>\n      <td>NaN</td>\n      <td>NaN</td>\n      <td>NaN</td>\n      <td>NaN</td>\n      <td>NaN</td>\n    </tr>\n    <tr>\n      <th>1</th>\n      <td>5511-2918068</td>\n      <td>Башмак балансира с бронзовой втулкой</td>\n      <td>6100.0</td>\n      <td>1</td>\n      <td>1</td>\n      <td>NaN</td>\n      <td>NaN</td>\n      <td>NaN</td>\n      <td>NaN</td>\n      <td>NaN</td>\n    </tr>\n    <tr>\n      <th>2</th>\n      <td>5511-2918068</td>\n      <td>Башмак балансира с фторопластовой втулкой</td>\n      <td>5150.0</td>\n      <td>1</td>\n      <td>1</td>\n      <td>NaN</td>\n      <td>NaN</td>\n      <td>NaN</td>\n      <td>NaN</td>\n      <td>NaN</td>\n    </tr>\n    <tr>\n      <th>3</th>\n      <td>5320-3422010</td>\n      <td>Вал карданный рулевой</td>\n      <td>1550.0</td>\n      <td>1</td>\n      <td>2</td>\n      <td>Вал карданный рулевой КАМАЗ 5320</td>\n      <td>Вал карданный рулевой КАМАЗ 5320</td>\n      <td>original/запчасть-на-фотосессии.jpg</td>\n      <td>128/128__запчасть-на-фотосессии.jpg</td>\n      <td>432/432__запчасть-на-фотосессии.jpg</td>\n    </tr>\n    <tr>\n      <th>4</th>\n      <td>4310-3422010</td>\n      <td>Вал карданный рулевой</td>\n      <td>1900.0</td>\n      <td>1</td>\n      <td>1</td>\n      <td>Вал карданный рулевой КАМАЗ 4310</td>\n      <td>Вал карданный рулевой КАМАЗ 4310</td>\n      <td>original/запчасть-на-фотосессии.jpg</td>\n      <td>128/128__запчасть-на-фотосессии.jpg</td>\n      <td>432/432__запчасть-на-фотосессии.jpg</td>\n    </tr>\n    <tr>\n      <th>...</th>\n      <td>...</td>\n      <td>...</td>\n      <td>...</td>\n      <td>...</td>\n      <td>...</td>\n      <td>...</td>\n      <td>...</td>\n      <td>...</td>\n      <td>...</td>\n      <td>...</td>\n    </tr>\n    <tr>\n      <th>22112</th>\n      <td>840-1117030</td>\n      <td>Элемент ФТОТ 840 (Евро-3) (нитка) СЕДАН</td>\n      <td>231.6</td>\n      <td>2</td>\n      <td></td>\n      <td>NaN</td>\n      <td>NaN</td>\n      <td>NaN</td>\n      <td>NaN</td>\n      <td>NaN</td>\n    </tr>\n    <tr>\n      <th>22113</th>\n      <td>2501-3708200-21</td>\n      <td>Якорь (для старт.2501.3708000-21) 10зуб. н/о П...</td>\n      <td>9000.0</td>\n      <td>2</td>\n      <td></td>\n      <td>NaN</td>\n      <td>NaN</td>\n      <td>NaN</td>\n      <td>NaN</td>\n      <td>NaN</td>\n    </tr>\n    <tr>\n      <th>22114</th>\n      <td>2501-3708200-20(01)</td>\n      <td>Якорь стартера МАЗ (11 зубьев) старого образца...</td>\n      <td>9000.0</td>\n      <td>2</td>\n      <td></td>\n      <td>NaN</td>\n      <td>NaN</td>\n      <td>NaN</td>\n      <td>NaN</td>\n      <td>NaN</td>\n    </tr>\n    <tr>\n      <th>22115</th>\n      <td>СТ-103-3708200</td>\n      <td>Якорь стартера СТ-103 Алтай (винтовой)</td>\n      <td>3840.0</td>\n      <td>2</td>\n      <td></td>\n      <td>NaN</td>\n      <td>NaN</td>\n      <td>NaN</td>\n      <td>NaN</td>\n      <td>NaN</td>\n    </tr>\n    <tr>\n      <th>22116</th>\n      <td>40001</td>\n      <td>Ящик инструментальный МАЗ (пластик)</td>\n      <td>6234.0</td>\n      <td>2</td>\n      <td></td>\n      <td>NaN</td>\n      <td>NaN</td>\n      <td>NaN</td>\n      <td>NaN</td>\n      <td>NaN</td>\n    </tr>\n  </tbody>\n</table>\n<p>22117 rows × 10 columns</p>\n</div>"
     },
     "execution_count": 30,
     "metadata": {},
     "output_type": "execute_result"
    }
   ],
   "source": [
    "df2 = pd.concat([df1, df])\n",
    "\n",
    "df2 = df2.drop_duplicates(subset=['vendor_code', 'title'])\n",
    "\n",
    "df2 = df2.dropna(subset=['vendor_code'])\n",
    "df2 = df2.dropna(subset=['title'])\n",
    "\n",
    "df2 = df2.reset_index(drop=True)\n",
    "df2['spare_parts_unit'] = df2['spare_parts_unit'] .fillna('')\n",
    "\n",
    "df2"
   ],
   "metadata": {
    "collapsed": false,
    "pycharm": {
     "name": "#%%\n"
    }
   }
  },
  {
   "cell_type": "markdown",
   "source": [
    "# Start classification"
   ],
   "metadata": {
    "collapsed": false,
    "pycharm": {
     "name": "#%% md\n"
    }
   }
  },
  {
   "cell_type": "code",
   "execution_count": 31,
   "outputs": [
    {
     "data": {
      "text/plain": "0             Башмак балансира\n1             Башмак балансира\n2             Башмак балансира\n3                Вал карданный\n4                Вал карданный\n                 ...          \n22112             Элемент ФТОТ\n22113               Якорь (для\n22114           Якорь стартера\n22115           Якорь стартера\n22116    Ящик инструментальный\nLength: 21606, dtype: object"
     },
     "execution_count": 31,
     "metadata": {},
     "output_type": "execute_result"
    }
   ],
   "source": [
    "word_series = df2['title'].str.split(' ', expand=True).loc[:, 0:1]\n",
    "\n",
    "word_series = word_series.loc[word_series[1] != '']\n",
    "word_series = word_series.loc[word_series[0] != '']\n",
    "\n",
    "two_words = word_series.loc[:, 0] + \" \" + word_series.loc[:, 1]\n",
    "\n",
    "two_words"
   ],
   "metadata": {
    "collapsed": false,
    "pycharm": {
     "name": "#%%\n"
    }
   }
  },
  {
   "cell_type": "code",
   "execution_count": 32,
   "outputs": [
    {
     "data": {
      "text/plain": "               vendor_code                                              title  \\\n0             5511-2918068             Башмак балансира с аллюминевой втулкой   \n1             5511-2918068               Башмак балансира с бронзовой втулкой   \n2             5511-2918068          Башмак балансира с фторопластовой втулкой   \n3             5320-3422010                              Вал карданный рулевой   \n4             4310-3422010                              Вал карданный рулевой   \n...                    ...                                                ...   \n22112          840-1117030            Элемент ФТОТ 840 (Евро-3) (нитка) СЕДАН   \n22113      2501-3708200-21  Якорь (для старт.2501.3708000-21) 10зуб. н/о П...   \n22114  2501-3708200-20(01)  Якорь стартера МАЗ (11 зубьев) старого образца...   \n22115       СТ-103-3708200             Якорь стартера СТ-103 Алтай (винтовой)   \n22116                40001                Ящик инструментальный МАЗ (пластик)   \n\n        price category spare_parts_unit                 short_description  \\\n0      4800.0        1                1                               NaN   \n1      6100.0        1                1                               NaN   \n2      5150.0        1                1                               NaN   \n3      1550.0        1                2  Вал карданный рулевой КАМАЗ 5320   \n4      1900.0        1                1  Вал карданный рулевой КАМАЗ 4310   \n...       ...      ...              ...                               ...   \n22112   231.6        2                                                NaN   \n22113  9000.0        2                                                NaN   \n22114  9000.0        2                                                NaN   \n22115  3840.0        2                                                NaN   \n22116  6234.0        2                                                NaN   \n\n                            description                       image_original  \\\n0                                   NaN                                  NaN   \n1                                   NaN                                  NaN   \n2                                   NaN                                  NaN   \n3      Вал карданный рулевой КАМАЗ 5320  original/запчасть-на-фотосессии.jpg   \n4      Вал карданный рулевой КАМАЗ 4310  original/запчасть-на-фотосессии.jpg   \n...                                 ...                                  ...   \n22112                               NaN                                  NaN   \n22113                               NaN                                  NaN   \n22114                               NaN                                  NaN   \n22115                               NaN                                  NaN   \n22116                               NaN                                  NaN   \n\n                                 image_128  \\\n0                                      NaN   \n1                                      NaN   \n2                                      NaN   \n3      128/128__запчасть-на-фотосессии.jpg   \n4      128/128__запчасть-на-фотосессии.jpg   \n...                                    ...   \n22112                                  NaN   \n22113                                  NaN   \n22114                                  NaN   \n22115                                  NaN   \n22116                                  NaN   \n\n                                 image_432 first_word              two_words  \n0                                      NaN     Башмак       Башмак балансира  \n1                                      NaN     Башмак       Башмак балансира  \n2                                      NaN     Башмак       Башмак балансира  \n3      432/432__запчасть-на-фотосессии.jpg        Вал          Вал карданный  \n4      432/432__запчасть-на-фотосессии.jpg        Вал          Вал карданный  \n...                                    ...        ...                    ...  \n22112                                  NaN    Элемент           Элемент ФТОТ  \n22113                                  NaN      Якорь             Якорь (для  \n22114                                  NaN      Якорь         Якорь стартера  \n22115                                  NaN      Якорь         Якорь стартера  \n22116                                  NaN       Ящик  Ящик инструментальный  \n\n[22117 rows x 12 columns]",
      "text/html": "<div>\n<style scoped>\n    .dataframe tbody tr th:only-of-type {\n        vertical-align: middle;\n    }\n\n    .dataframe tbody tr th {\n        vertical-align: top;\n    }\n\n    .dataframe thead th {\n        text-align: right;\n    }\n</style>\n<table border=\"1\" class=\"dataframe\">\n  <thead>\n    <tr style=\"text-align: right;\">\n      <th></th>\n      <th>vendor_code</th>\n      <th>title</th>\n      <th>price</th>\n      <th>category</th>\n      <th>spare_parts_unit</th>\n      <th>short_description</th>\n      <th>description</th>\n      <th>image_original</th>\n      <th>image_128</th>\n      <th>image_432</th>\n      <th>first_word</th>\n      <th>two_words</th>\n    </tr>\n  </thead>\n  <tbody>\n    <tr>\n      <th>0</th>\n      <td>5511-2918068</td>\n      <td>Башмак балансира с аллюминевой втулкой</td>\n      <td>4800.0</td>\n      <td>1</td>\n      <td>1</td>\n      <td>NaN</td>\n      <td>NaN</td>\n      <td>NaN</td>\n      <td>NaN</td>\n      <td>NaN</td>\n      <td>Башмак</td>\n      <td>Башмак балансира</td>\n    </tr>\n    <tr>\n      <th>1</th>\n      <td>5511-2918068</td>\n      <td>Башмак балансира с бронзовой втулкой</td>\n      <td>6100.0</td>\n      <td>1</td>\n      <td>1</td>\n      <td>NaN</td>\n      <td>NaN</td>\n      <td>NaN</td>\n      <td>NaN</td>\n      <td>NaN</td>\n      <td>Башмак</td>\n      <td>Башмак балансира</td>\n    </tr>\n    <tr>\n      <th>2</th>\n      <td>5511-2918068</td>\n      <td>Башмак балансира с фторопластовой втулкой</td>\n      <td>5150.0</td>\n      <td>1</td>\n      <td>1</td>\n      <td>NaN</td>\n      <td>NaN</td>\n      <td>NaN</td>\n      <td>NaN</td>\n      <td>NaN</td>\n      <td>Башмак</td>\n      <td>Башмак балансира</td>\n    </tr>\n    <tr>\n      <th>3</th>\n      <td>5320-3422010</td>\n      <td>Вал карданный рулевой</td>\n      <td>1550.0</td>\n      <td>1</td>\n      <td>2</td>\n      <td>Вал карданный рулевой КАМАЗ 5320</td>\n      <td>Вал карданный рулевой КАМАЗ 5320</td>\n      <td>original/запчасть-на-фотосессии.jpg</td>\n      <td>128/128__запчасть-на-фотосессии.jpg</td>\n      <td>432/432__запчасть-на-фотосессии.jpg</td>\n      <td>Вал</td>\n      <td>Вал карданный</td>\n    </tr>\n    <tr>\n      <th>4</th>\n      <td>4310-3422010</td>\n      <td>Вал карданный рулевой</td>\n      <td>1900.0</td>\n      <td>1</td>\n      <td>1</td>\n      <td>Вал карданный рулевой КАМАЗ 4310</td>\n      <td>Вал карданный рулевой КАМАЗ 4310</td>\n      <td>original/запчасть-на-фотосессии.jpg</td>\n      <td>128/128__запчасть-на-фотосессии.jpg</td>\n      <td>432/432__запчасть-на-фотосессии.jpg</td>\n      <td>Вал</td>\n      <td>Вал карданный</td>\n    </tr>\n    <tr>\n      <th>...</th>\n      <td>...</td>\n      <td>...</td>\n      <td>...</td>\n      <td>...</td>\n      <td>...</td>\n      <td>...</td>\n      <td>...</td>\n      <td>...</td>\n      <td>...</td>\n      <td>...</td>\n      <td>...</td>\n      <td>...</td>\n    </tr>\n    <tr>\n      <th>22112</th>\n      <td>840-1117030</td>\n      <td>Элемент ФТОТ 840 (Евро-3) (нитка) СЕДАН</td>\n      <td>231.6</td>\n      <td>2</td>\n      <td></td>\n      <td>NaN</td>\n      <td>NaN</td>\n      <td>NaN</td>\n      <td>NaN</td>\n      <td>NaN</td>\n      <td>Элемент</td>\n      <td>Элемент ФТОТ</td>\n    </tr>\n    <tr>\n      <th>22113</th>\n      <td>2501-3708200-21</td>\n      <td>Якорь (для старт.2501.3708000-21) 10зуб. н/о П...</td>\n      <td>9000.0</td>\n      <td>2</td>\n      <td></td>\n      <td>NaN</td>\n      <td>NaN</td>\n      <td>NaN</td>\n      <td>NaN</td>\n      <td>NaN</td>\n      <td>Якорь</td>\n      <td>Якорь (для</td>\n    </tr>\n    <tr>\n      <th>22114</th>\n      <td>2501-3708200-20(01)</td>\n      <td>Якорь стартера МАЗ (11 зубьев) старого образца...</td>\n      <td>9000.0</td>\n      <td>2</td>\n      <td></td>\n      <td>NaN</td>\n      <td>NaN</td>\n      <td>NaN</td>\n      <td>NaN</td>\n      <td>NaN</td>\n      <td>Якорь</td>\n      <td>Якорь стартера</td>\n    </tr>\n    <tr>\n      <th>22115</th>\n      <td>СТ-103-3708200</td>\n      <td>Якорь стартера СТ-103 Алтай (винтовой)</td>\n      <td>3840.0</td>\n      <td>2</td>\n      <td></td>\n      <td>NaN</td>\n      <td>NaN</td>\n      <td>NaN</td>\n      <td>NaN</td>\n      <td>NaN</td>\n      <td>Якорь</td>\n      <td>Якорь стартера</td>\n    </tr>\n    <tr>\n      <th>22116</th>\n      <td>40001</td>\n      <td>Ящик инструментальный МАЗ (пластик)</td>\n      <td>6234.0</td>\n      <td>2</td>\n      <td></td>\n      <td>NaN</td>\n      <td>NaN</td>\n      <td>NaN</td>\n      <td>NaN</td>\n      <td>NaN</td>\n      <td>Ящик</td>\n      <td>Ящик инструментальный</td>\n    </tr>\n  </tbody>\n</table>\n<p>22117 rows × 12 columns</p>\n</div>"
     },
     "execution_count": 32,
     "metadata": {},
     "output_type": "execute_result"
    }
   ],
   "source": [
    "first_word_series = df2['title'].str.split(' ', expand=True).loc[:, 0]\n",
    "\n",
    "df3 = pd.concat([df2, first_word_series], axis=1)\n",
    "df3 = df3.rename(columns={0: 'first_word'})\n",
    "\n",
    "df3 = pd.concat([df3, two_words], axis=1)\n",
    "df3 = df3.rename(columns={0: 'two_words'})\n",
    "df3"
   ],
   "metadata": {
    "collapsed": false,
    "pycharm": {
     "name": "#%%\n"
    }
   }
  },
  {
   "cell_type": "code",
   "execution_count": 33,
   "outputs": [
    {
     "data": {
      "text/plain": "{'Вал': 1,\n 'Бак': 4,\n 'Трубка': 6,\n 'Кольцо': 6,\n 'Прокладка': 6,\n 'Болт': 7,\n 'Шайба': 7,\n 'Шестерня': 5,\n 'Гайка': 7,\n 'Башмак': 1,\n 'Гидромуфта': 3,\n 'Головка': 3,\n 'ГУР': 2,\n 'ГУР-6540': 2,\n 'Диск': 5,\n 'Камера': 2,\n 'Картер': 5,\n 'КОМ': 4,\n 'Компрессор': 2,\n 'Корзина': 5,\n 'Кулиса': 5,\n 'Механизм': 5,\n 'МОД': 5,\n 'Наконечник': 2,\n 'Насос': 2,\n 'ПГУ': 5,\n 'Сошка': 2,\n 'Стартер': 3,\n 'Тяга': 2,\n 'Штанга': 1,\n 'Энергоаккумулятор': 2}"
     },
     "execution_count": 33,
     "metadata": {},
     "output_type": "execute_result"
    }
   ],
   "source": [
    "word__spare_unit = {'Вал': 5, \"Бак\": 4, \"Трубка\": 6, \"Кольцо\": 6, \"Прокладка\": 6, \"Болт\": 7, \"Шайба\": 7, \"Шестерня\": 5, 'Гайка': 7}\n",
    "two_words__spare_unit = {'Кронштейн крепления': 7}\n",
    "\n",
    "for row_index in range(len(df3)):\n",
    "    spare_parts_unit = df3.loc[row_index, 'spare_parts_unit']\n",
    "\n",
    "    if spare_parts_unit:\n",
    "        first_word = df3.loc[row_index, 'first_word']\n",
    "        word__spare_unit[first_word] = spare_parts_unit\n",
    "    else:\n",
    "        break\n",
    "\n",
    "word__spare_unit"
   ],
   "metadata": {
    "collapsed": false,
    "pycharm": {
     "name": "#%%\n"
    }
   }
  },
  {
   "cell_type": "code",
   "execution_count": 34,
   "outputs": [
    {
     "data": {
      "text/plain": "spare_parts_unit\n0    16287\n1      734\n2      964\n3      190\n4      220\n5      865\n6     1646\n7     1211\nName: vendor_code, dtype: int64"
     },
     "execution_count": 34,
     "metadata": {},
     "output_type": "execute_result"
    }
   ],
   "source": [
    "for row_index in range(len(df3)):\n",
    "    for word in word__spare_unit:\n",
    "        title = df3.loc[row_index, 'title']\n",
    "        if word in title:\n",
    "            df3.loc[row_index, 'spare_parts_unit'] = word__spare_unit[word]\n",
    "            break\n",
    "    else:\n",
    "        for two_word in two_words__spare_unit:\n",
    "            title = df3.loc[row_index, 'title']\n",
    "            if two_word in title:\n",
    "                df3.loc[row_index, 'spare_parts_unit'] = two_words__spare_unit[two_word]\n",
    "                break\n",
    "        else:\n",
    "            df3.loc[row_index, 'spare_parts_unit'] = 0\n",
    "\n",
    "df3.groupby('spare_parts_unit')['vendor_code'].count()"
   ],
   "metadata": {
    "collapsed": false,
    "pycharm": {
     "name": "#%%\n"
    }
   }
  },
  {
   "cell_type": "code",
   "execution_count": 35,
   "outputs": [
    {
     "data": {
      "text/plain": "Series([], Name: two_words, dtype: int64)"
     },
     "execution_count": 35,
     "metadata": {},
     "output_type": "execute_result"
    }
   ],
   "source": [
    "one_word = df3.loc[df3['spare_parts_unit'] == '', 'first_word'].value_counts()\n",
    "one_word = one_word.loc[one_word > 100]\n",
    "\n",
    "two_words_ = df3.loc[df3['spare_parts_unit'] == '', 'two_words'].value_counts()\n",
    "\n",
    "two_words_"
   ],
   "metadata": {
    "collapsed": false,
    "pycharm": {
     "name": "#%%\n"
    }
   }
  },
  {
   "cell_type": "code",
   "execution_count": 36,
   "outputs": [
    {
     "data": {
      "text/plain": "               vendor_code                                              title  \\\n0             5511-2918068             Башмак балансира с аллюминевой втулкой   \n1             5511-2918068               Башмак балансира с бронзовой втулкой   \n2             5511-2918068          Башмак балансира с фторопластовой втулкой   \n3             5320-3422010                              Вал карданный рулевой   \n4             4310-3422010                              Вал карданный рулевой   \n...                    ...                                                ...   \n22112          840-1117030            Элемент ФТОТ 840 (Евро-3) (нитка) СЕДАН   \n22113      2501-3708200-21  Якорь (для старт.2501.3708000-21) 10зуб. н/о П...   \n22114  2501-3708200-20(01)  Якорь стартера МАЗ (11 зубьев) старого образца...   \n22115       СТ-103-3708200             Якорь стартера СТ-103 Алтай (винтовой)   \n22116                40001                Ящик инструментальный МАЗ (пластик)   \n\n        price  category  spare_parts_unit                 short_description  \\\n0      4800.0         1                 1                                 0   \n1      6100.0         1                 1                                 0   \n2      5150.0         1                 1                                 0   \n3      1550.0         1                 1  Вал карданный рулевой КАМАЗ 5320   \n4      1900.0         1                 1  Вал карданный рулевой КАМАЗ 4310   \n...       ...       ...               ...                               ...   \n22112   231.6         2                 0                                 0   \n22113  9000.0         2                 0                                 0   \n22114  9000.0         2                 0                                 0   \n22115  3840.0         2                 0                                 0   \n22116  6234.0         2                 0                                 0   \n\n                            description                       image_original  \\\n0                                     0                                    0   \n1                                     0                                    0   \n2                                     0                                    0   \n3      Вал карданный рулевой КАМАЗ 5320  original/запчасть-на-фотосессии.jpg   \n4      Вал карданный рулевой КАМАЗ 4310  original/запчасть-на-фотосессии.jpg   \n...                                 ...                                  ...   \n22112                                 0                                    0   \n22113                                 0                                    0   \n22114                                 0                                    0   \n22115                                 0                                    0   \n22116                                 0                                    0   \n\n                                 image_128  \\\n0                                        0   \n1                                        0   \n2                                        0   \n3      128/128__запчасть-на-фотосессии.jpg   \n4      128/128__запчасть-на-фотосессии.jpg   \n...                                    ...   \n22112                                    0   \n22113                                    0   \n22114                                    0   \n22115                                    0   \n22116                                    0   \n\n                                 image_432  \n0                                        0  \n1                                        0  \n2                                        0  \n3      432/432__запчасть-на-фотосессии.jpg  \n4      432/432__запчасть-на-фотосессии.jpg  \n...                                    ...  \n22112                                    0  \n22113                                    0  \n22114                                    0  \n22115                                    0  \n22116                                    0  \n\n[22117 rows x 10 columns]",
      "text/html": "<div>\n<style scoped>\n    .dataframe tbody tr th:only-of-type {\n        vertical-align: middle;\n    }\n\n    .dataframe tbody tr th {\n        vertical-align: top;\n    }\n\n    .dataframe thead th {\n        text-align: right;\n    }\n</style>\n<table border=\"1\" class=\"dataframe\">\n  <thead>\n    <tr style=\"text-align: right;\">\n      <th></th>\n      <th>vendor_code</th>\n      <th>title</th>\n      <th>price</th>\n      <th>category</th>\n      <th>spare_parts_unit</th>\n      <th>short_description</th>\n      <th>description</th>\n      <th>image_original</th>\n      <th>image_128</th>\n      <th>image_432</th>\n    </tr>\n  </thead>\n  <tbody>\n    <tr>\n      <th>0</th>\n      <td>5511-2918068</td>\n      <td>Башмак балансира с аллюминевой втулкой</td>\n      <td>4800.0</td>\n      <td>1</td>\n      <td>1</td>\n      <td>0</td>\n      <td>0</td>\n      <td>0</td>\n      <td>0</td>\n      <td>0</td>\n    </tr>\n    <tr>\n      <th>1</th>\n      <td>5511-2918068</td>\n      <td>Башмак балансира с бронзовой втулкой</td>\n      <td>6100.0</td>\n      <td>1</td>\n      <td>1</td>\n      <td>0</td>\n      <td>0</td>\n      <td>0</td>\n      <td>0</td>\n      <td>0</td>\n    </tr>\n    <tr>\n      <th>2</th>\n      <td>5511-2918068</td>\n      <td>Башмак балансира с фторопластовой втулкой</td>\n      <td>5150.0</td>\n      <td>1</td>\n      <td>1</td>\n      <td>0</td>\n      <td>0</td>\n      <td>0</td>\n      <td>0</td>\n      <td>0</td>\n    </tr>\n    <tr>\n      <th>3</th>\n      <td>5320-3422010</td>\n      <td>Вал карданный рулевой</td>\n      <td>1550.0</td>\n      <td>1</td>\n      <td>1</td>\n      <td>Вал карданный рулевой КАМАЗ 5320</td>\n      <td>Вал карданный рулевой КАМАЗ 5320</td>\n      <td>original/запчасть-на-фотосессии.jpg</td>\n      <td>128/128__запчасть-на-фотосессии.jpg</td>\n      <td>432/432__запчасть-на-фотосессии.jpg</td>\n    </tr>\n    <tr>\n      <th>4</th>\n      <td>4310-3422010</td>\n      <td>Вал карданный рулевой</td>\n      <td>1900.0</td>\n      <td>1</td>\n      <td>1</td>\n      <td>Вал карданный рулевой КАМАЗ 4310</td>\n      <td>Вал карданный рулевой КАМАЗ 4310</td>\n      <td>original/запчасть-на-фотосессии.jpg</td>\n      <td>128/128__запчасть-на-фотосессии.jpg</td>\n      <td>432/432__запчасть-на-фотосессии.jpg</td>\n    </tr>\n    <tr>\n      <th>...</th>\n      <td>...</td>\n      <td>...</td>\n      <td>...</td>\n      <td>...</td>\n      <td>...</td>\n      <td>...</td>\n      <td>...</td>\n      <td>...</td>\n      <td>...</td>\n      <td>...</td>\n    </tr>\n    <tr>\n      <th>22112</th>\n      <td>840-1117030</td>\n      <td>Элемент ФТОТ 840 (Евро-3) (нитка) СЕДАН</td>\n      <td>231.6</td>\n      <td>2</td>\n      <td>0</td>\n      <td>0</td>\n      <td>0</td>\n      <td>0</td>\n      <td>0</td>\n      <td>0</td>\n    </tr>\n    <tr>\n      <th>22113</th>\n      <td>2501-3708200-21</td>\n      <td>Якорь (для старт.2501.3708000-21) 10зуб. н/о П...</td>\n      <td>9000.0</td>\n      <td>2</td>\n      <td>0</td>\n      <td>0</td>\n      <td>0</td>\n      <td>0</td>\n      <td>0</td>\n      <td>0</td>\n    </tr>\n    <tr>\n      <th>22114</th>\n      <td>2501-3708200-20(01)</td>\n      <td>Якорь стартера МАЗ (11 зубьев) старого образца...</td>\n      <td>9000.0</td>\n      <td>2</td>\n      <td>0</td>\n      <td>0</td>\n      <td>0</td>\n      <td>0</td>\n      <td>0</td>\n      <td>0</td>\n    </tr>\n    <tr>\n      <th>22115</th>\n      <td>СТ-103-3708200</td>\n      <td>Якорь стартера СТ-103 Алтай (винтовой)</td>\n      <td>3840.0</td>\n      <td>2</td>\n      <td>0</td>\n      <td>0</td>\n      <td>0</td>\n      <td>0</td>\n      <td>0</td>\n      <td>0</td>\n    </tr>\n    <tr>\n      <th>22116</th>\n      <td>40001</td>\n      <td>Ящик инструментальный МАЗ (пластик)</td>\n      <td>6234.0</td>\n      <td>2</td>\n      <td>0</td>\n      <td>0</td>\n      <td>0</td>\n      <td>0</td>\n      <td>0</td>\n      <td>0</td>\n    </tr>\n  </tbody>\n</table>\n<p>22117 rows × 10 columns</p>\n</div>"
     },
     "execution_count": 36,
     "metadata": {},
     "output_type": "execute_result"
    }
   ],
   "source": [
    "df4 = df3.drop(columns=['first_word', 'two_words'])\n",
    "\n",
    "df4['price'] = df4['price'].fillna(0)\n",
    "df4['category'] = df4['category'].fillna(0)\n",
    "df4 = df4.fillna(0)\n",
    "\n",
    "df4"
   ],
   "metadata": {
    "collapsed": false,
    "pycharm": {
     "name": "#%%\n"
    }
   }
  },
  {
   "cell_type": "code",
   "execution_count": 37,
   "outputs": [
    {
     "name": "stdout",
     "output_type": "stream",
     "text": [
      "the dataframe is inserted\n"
     ]
    }
   ],
   "source": [
    "import psycopg2\n",
    "import psycopg2.extras as extras\n",
    "\n",
    "\n",
    "def execute_values(conn, df, table):\n",
    "\n",
    "\ttuples = [tuple(x) for x in df.to_numpy()]\n",
    "\n",
    "\tcols = ','.join(list(df.columns))\n",
    "\t# SQL query to execute\n",
    "\tquery = \"INSERT INTO %s(%s) VALUES %%s\" % (table, cols)\n",
    "\tcursor = conn.cursor()\n",
    "\ttry:\n",
    "\t\textras.execute_values(cursor, query, tuples)\n",
    "\t\tconn.commit()\n",
    "\texcept (Exception, psycopg2.DatabaseError) as error:\n",
    "\t\tprint(\"Error: %s\" % error)\n",
    "\t\tconn.rollback()\n",
    "\t\tcursor.close()\n",
    "\t\treturn 1\n",
    "\tprint(\"the dataframe is inserted\")\n",
    "\tcursor.close()\n",
    "\n",
    "\n",
    "conn = psycopg2.connect(\n",
    "\tdatabase=\"shop\", user='postgres', password='vdnjvjnjhgDFGHJXCV56483754343', host='178.21.8.81', port='5432'\n",
    ")\n",
    "\n",
    "execute_values(conn, df4, 'products')"
   ],
   "metadata": {
    "collapsed": false,
    "pycharm": {
     "name": "#%%\n"
    }
   }
  },
  {
   "cell_type": "code",
   "execution_count": 37,
   "outputs": [],
   "source": [],
   "metadata": {
    "collapsed": false,
    "pycharm": {
     "name": "#%%\n"
    }
   }
  }
 ],
 "metadata": {
  "kernelspec": {
   "display_name": "Python 3",
   "language": "python",
   "name": "python3"
  },
  "language_info": {
   "codemirror_mode": {
    "name": "ipython",
    "version": 2
   },
   "file_extension": ".py",
   "mimetype": "text/x-python",
   "name": "python",
   "nbconvert_exporter": "python",
   "pygments_lexer": "ipython2",
   "version": "2.7.6"
  }
 },
 "nbformat": 4,
 "nbformat_minor": 0
}