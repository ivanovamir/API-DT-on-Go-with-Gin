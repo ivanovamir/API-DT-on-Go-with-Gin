{
 "cells": [
  {
   "cell_type": "code",
   "execution_count": 1,
   "outputs": [
    {
     "data": {
      "text/plain": "       0                                         Артикул  \\\n0      1                                   55111-2918068   \n1      2                                 55111-2918070-1   \n2      3                               55111-2918070-1-1   \n3      4                                  740.1003010-20   \n4      5                                  740.30-1003010   \n..   ...                                             ...   \n149  150                                 C700 VW 717-150   \n150  151                                 C700 VW 717-078   \n151  152                                        6.1-7.01   \n152  153                                  6.5.1-17.01.03   \n153  154  4043976/2835142/4955962/3782369/3782376/HE221W   \n\n                                                   Имя  \\\n0                Башмак балансира с алюминевой втулкой   \n1                 Башмак балансира с бронзовой втулкой   \n2            Башмак балансира с фторопластовой втулкой   \n3                Головка блока цилиндров Камаз в сборе   \n4    Головка блока цилиндров Камаз ЕВРО-1, 2, 3 в с...   \n..                                                 ...   \n149  ГУР (Механизм рулевой) КАМАЗ-65221 C700 VW 717...   \n150  ГУР (Механизм рулевой) КАМАЗ-6520 C700 VW 717-...   \n151  Турбокомпрессор ПАЗ дв. 245.7,245.9 Евро-2 (6....   \n152  Турбокомпрессор ГАЗ, ММЗ Д-245.7Е3 ТКР 6.5.1-1...   \n153  Турбокомпрессор ЕВРО-3  HE 221 W (4ISBe) двига...   \n\n                                      Краткое описание  \\\n0    Торговая марка: КАМАЗАртикул: 5511-2918068Габа...   \n1    Торговая марка: КАМАЗАртикул: 5511-2918068Габа...   \n2    Торговая марка: КАМАЗАртикул: 5511-2918068Габа...   \n3    Производитель: КАМАЗАртикул: 740-1003010-20Шир...   \n4    Производитель: КАМАЗАртикул: 740.30-1003010Шир...   \n..                                                 ...   \n149                                                NaN   \n150                                                NaN   \n151  Регулируемый турбокомпрессор с перепуском газа...   \n152  Турбокомпрессор предназначен для комплектации ...   \n153                                                NaN   \n\n                                              Описание  Базовая цена  \\\n0    Башмак балансира с алюминиевой втулкойАртикул:...        4050.0   \n1    Башмак балансира с бронзовой втулкой КамАЗАрти...        5150.0   \n2    Башмак балансира с фторопластовой втулкойАртик...        4350.0   \n3    Головка блока цилиндров Камаз в сборе 740.1003...        3000.0   \n4    Головка блока КамАЗ ЕВРО(740.30-1003010)Головк...        5000.0   \n..                                                 ...           ...   \n149  Применяется на а/м КАМАЗ: 6522, 65224, 65225, ...       44000.0   \n150  Механизм рулевой ГУР Камаз, УРАЛ C700 V 717-07...       45000.0   \n151  Регулируемый турбокомпрессор с перепуском газа...       13500.0   \n152  Турбокомпрессор предназначен для комплектации ...       13500.0   \n153                                                NaN       22800.0   \n\n    Категории                                        Изображения  \n0           1  https://deshevle-tut.ru/wp-content/uploads/201...  \n1           1  https://deshevle-tut.ru/wp-content/uploads/201...  \n2           1  https://deshevle-tut.ru/wp-content/uploads/201...  \n3           1  https://deshevle-tut.ru/wp-content/uploads/201...  \n4           1  https://deshevle-tut.ru/wp-content/uploads/201...  \n..        ...                                                ...  \n149         1  https://deshevle-tut.ru/wp-content/uploads/202...  \n150         1  https://deshevle-tut.ru/wp-content/uploads/202...  \n151         5  https://deshevle-tut.ru/wp-content/uploads/202...  \n152         6  https://deshevle-tut.ru/wp-content/uploads/202...  \n153         1  https://deshevle-tut.ru/wp-content/uploads/202...  \n\n[154 rows x 8 columns]",
      "text/html": "<div>\n<style scoped>\n    .dataframe tbody tr th:only-of-type {\n        vertical-align: middle;\n    }\n\n    .dataframe tbody tr th {\n        vertical-align: top;\n    }\n\n    .dataframe thead th {\n        text-align: right;\n    }\n</style>\n<table border=\"1\" class=\"dataframe\">\n  <thead>\n    <tr style=\"text-align: right;\">\n      <th></th>\n      <th>0</th>\n      <th>Артикул</th>\n      <th>Имя</th>\n      <th>Краткое описание</th>\n      <th>Описание</th>\n      <th>Базовая цена</th>\n      <th>Категории</th>\n      <th>Изображения</th>\n    </tr>\n  </thead>\n  <tbody>\n    <tr>\n      <th>0</th>\n      <td>1</td>\n      <td>55111-2918068</td>\n      <td>Башмак балансира с алюминевой втулкой</td>\n      <td>Торговая марка: КАМАЗАртикул: 5511-2918068Габа...</td>\n      <td>Башмак балансира с алюминиевой втулкойАртикул:...</td>\n      <td>4050.0</td>\n      <td>1</td>\n      <td>https://deshevle-tut.ru/wp-content/uploads/201...</td>\n    </tr>\n    <tr>\n      <th>1</th>\n      <td>2</td>\n      <td>55111-2918070-1</td>\n      <td>Башмак балансира с бронзовой втулкой</td>\n      <td>Торговая марка: КАМАЗАртикул: 5511-2918068Габа...</td>\n      <td>Башмак балансира с бронзовой втулкой КамАЗАрти...</td>\n      <td>5150.0</td>\n      <td>1</td>\n      <td>https://deshevle-tut.ru/wp-content/uploads/201...</td>\n    </tr>\n    <tr>\n      <th>2</th>\n      <td>3</td>\n      <td>55111-2918070-1-1</td>\n      <td>Башмак балансира с фторопластовой втулкой</td>\n      <td>Торговая марка: КАМАЗАртикул: 5511-2918068Габа...</td>\n      <td>Башмак балансира с фторопластовой втулкойАртик...</td>\n      <td>4350.0</td>\n      <td>1</td>\n      <td>https://deshevle-tut.ru/wp-content/uploads/201...</td>\n    </tr>\n    <tr>\n      <th>3</th>\n      <td>4</td>\n      <td>740.1003010-20</td>\n      <td>Головка блока цилиндров Камаз в сборе</td>\n      <td>Производитель: КАМАЗАртикул: 740-1003010-20Шир...</td>\n      <td>Головка блока цилиндров Камаз в сборе 740.1003...</td>\n      <td>3000.0</td>\n      <td>1</td>\n      <td>https://deshevle-tut.ru/wp-content/uploads/201...</td>\n    </tr>\n    <tr>\n      <th>4</th>\n      <td>5</td>\n      <td>740.30-1003010</td>\n      <td>Головка блока цилиндров Камаз ЕВРО-1, 2, 3 в с...</td>\n      <td>Производитель: КАМАЗАртикул: 740.30-1003010Шир...</td>\n      <td>Головка блока КамАЗ ЕВРО(740.30-1003010)Головк...</td>\n      <td>5000.0</td>\n      <td>1</td>\n      <td>https://deshevle-tut.ru/wp-content/uploads/201...</td>\n    </tr>\n    <tr>\n      <th>...</th>\n      <td>...</td>\n      <td>...</td>\n      <td>...</td>\n      <td>...</td>\n      <td>...</td>\n      <td>...</td>\n      <td>...</td>\n      <td>...</td>\n    </tr>\n    <tr>\n      <th>149</th>\n      <td>150</td>\n      <td>C700 VW 717-150</td>\n      <td>ГУР (Механизм рулевой) КАМАЗ-65221 C700 VW 717...</td>\n      <td>NaN</td>\n      <td>Применяется на а/м КАМАЗ: 6522, 65224, 65225, ...</td>\n      <td>44000.0</td>\n      <td>1</td>\n      <td>https://deshevle-tut.ru/wp-content/uploads/202...</td>\n    </tr>\n    <tr>\n      <th>150</th>\n      <td>151</td>\n      <td>C700 VW 717-078</td>\n      <td>ГУР (Механизм рулевой) КАМАЗ-6520 C700 VW 717-...</td>\n      <td>NaN</td>\n      <td>Механизм рулевой ГУР Камаз, УРАЛ C700 V 717-07...</td>\n      <td>45000.0</td>\n      <td>1</td>\n      <td>https://deshevle-tut.ru/wp-content/uploads/202...</td>\n    </tr>\n    <tr>\n      <th>151</th>\n      <td>152</td>\n      <td>6.1-7.01</td>\n      <td>Турбокомпрессор ПАЗ дв. 245.7,245.9 Евро-2 (6....</td>\n      <td>Регулируемый турбокомпрессор с перепуском газа...</td>\n      <td>Регулируемый турбокомпрессор с перепуском газа...</td>\n      <td>13500.0</td>\n      <td>5</td>\n      <td>https://deshevle-tut.ru/wp-content/uploads/202...</td>\n    </tr>\n    <tr>\n      <th>152</th>\n      <td>153</td>\n      <td>6.5.1-17.01.03</td>\n      <td>Турбокомпрессор ГАЗ, ММЗ Д-245.7Е3 ТКР 6.5.1-1...</td>\n      <td>Турбокомпрессор предназначен для комплектации ...</td>\n      <td>Турбокомпрессор предназначен для комплектации ...</td>\n      <td>13500.0</td>\n      <td>6</td>\n      <td>https://deshevle-tut.ru/wp-content/uploads/202...</td>\n    </tr>\n    <tr>\n      <th>153</th>\n      <td>154</td>\n      <td>4043976/2835142/4955962/3782369/3782376/HE221W</td>\n      <td>Турбокомпрессор ЕВРО-3  HE 221 W (4ISBe) двига...</td>\n      <td>NaN</td>\n      <td>NaN</td>\n      <td>22800.0</td>\n      <td>1</td>\n      <td>https://deshevle-tut.ru/wp-content/uploads/202...</td>\n    </tr>\n  </tbody>\n</table>\n<p>154 rows × 8 columns</p>\n</div>"
     },
     "execution_count": 1,
     "metadata": {},
     "output_type": "execute_result"
    }
   ],
   "source": [
    "import pandas\n",
    "\n",
    "data = pandas.read_csv('../datasets/dt_data.csv')\n",
    "\n",
    "data"
   ],
   "metadata": {
    "collapsed": false,
    "pycharm": {
     "name": "#%%\n"
    }
   }
  },
  {
   "cell_type": "code",
   "execution_count": 10,
   "outputs": [
    {
     "data": {
      "text/plain": "{'55111-2918068': {'from_dt': ['https://deshevle-tut.ru/wp-content/uploads/2019/07/IMG_20190703_101637.jpg'],\n  'new': None},\n '55111-2918070-1': {'from_dt': ['https://deshevle-tut.ru/wp-content/uploads/2019/07/IMG_20190703_101637.jpg'],\n  'new': None},\n '55111-2918070-1-1': {'from_dt': ['https://deshevle-tut.ru/wp-content/uploads/2019/07/IMG_20190703_101637.jpg'],\n  'new': None},\n '740.1003010-20': {'from_dt': ['https://deshevle-tut.ru/wp-content/uploads/2019/07/IMG_20190619_134642.jpg',\n   'https://deshevle-tut.ru/wp-content/uploads/2019/07/IMG_20190621_125140-1.jpg'],\n  'new': None},\n '740.30-1003010': {'from_dt': ['https://deshevle-tut.ru/wp-content/uploads/2019/07/IMG_20190520_103858-scaled.jpg',\n   'https://deshevle-tut.ru/wp-content/uploads/2019/07/IMG_20190619_134642.jpg'],\n  'new': None},\n '130-3400020': {'from_dt': ['https://deshevle-tut.ru/wp-content/uploads/2019/07/GUR-ZIL.jpg'],\n  'new': None},\n '2501-3708000-21': {'from_dt': ['https://deshevle-tut.ru/wp-content/uploads/2019/07/Starter-RZHEV-1.jpg'],\n  'new': None},\n 'СТ142Т-3708000-10': {'from_dt': ['https://deshevle-tut.ru/wp-content/uploads/2019/07/IMG_20190619_152921.jpg'],\n  'new': None},\n '100-3519100': {'from_dt': ['https://deshevle-tut.ru/wp-content/uploads/2019/07/Energoakkumulyator-tip-20.jpg'],\n  'new': None},\n 'СТ142-3708000-10': {'from_dt': ['https://deshevle-tut.ru/wp-content/uploads/2019/07/starter-evro.jpg'],\n  'new': None},\n '53205-6800010': {'from_dt': ['https://deshevle-tut.ru/wp-content/uploads/2019/07/sidene.jpg'],\n  'new': None},\n '740-1307010-11': {'from_dt': ['https://deshevle-tut.ru/wp-content/uploads/2019/07/Pompa-ural.jpg'],\n  'new': None},\n '6520-3407200': {'from_dt': ['https://deshevle-tut.ru/wp-content/uploads/2019/07/Nasos-gura-ELETS.jpg'],\n  'new': None},\n '740.50-1307010': {'from_dt': ['https://deshevle-tut.ru/wp-content/uploads/2019/07/Nasos-vodyanoj-evro-2.jpg'],\n  'new': None},\n '154-1771010': {'from_dt': ['https://deshevle-tut.ru/wp-content/uploads/2019/07/Myasorubka-2.jpg'],\n  'new': None},\n '5320-2506110': {'from_dt': ['https://deshevle-tut.ru/wp-content/uploads/2019/07/karter-moda.jpg'],\n  'new': None},\n '5320-3509015-10': {'from_dt': ['https://deshevle-tut.ru/wp-content/uploads/2019/07/kompressor-vysokoproizvoditelnaya.jpg'],\n  'new': None},\n '53205-3509015': {'from_dt': ['https://deshevle-tut.ru/wp-content/uploads/2019/07/Kompressor-1-tsilindr-KAMAZ-1.jpg'],\n  'new': None},\n '5336-3509012': {'from_dt': ['https://deshevle-tut.ru/wp-content/uploads/2019/07/kompressor-MAZ.jpg'],\n  'new': None},\n '182/184-1601130': {'from_dt': ['https://deshevle-tut.ru/wp-content/uploads/2019/07/Disk-stsepleniya-1.jpg'],\n  'new': None},\n '238-1601130/31': {'from_dt': ['https://deshevle-tut.ru/wp-content/uploads/2019/07/Disk-stsepleniya-1.jpg'],\n  'new': None},\n '453461.425-01': {'from_dt': ['https://deshevle-tut.ru/wp-content/uploads/2019/07/GUR-SHNKF-speredi.jpg'],\n  'new': None},\n 'C700VW717115 717-115': {'from_dt': ['https://deshevle-tut.ru/wp-content/uploads/2019/07/GUR-RBL.jpg'],\n  'new': None},\n '4310-3400020': {'from_dt': ['https://deshevle-tut.ru/wp-content/uploads/2019/07/GUR-4310-1.jpg'],\n  'new': None},\n '5320-3400020': {'from_dt': ['https://deshevle-tut.ru/wp-content/uploads/2019/07/GUR-5320-szadi.jpg'],\n  'new': None},\n '4310-3414009': {'from_dt': ['https://deshevle-tut.ru/wp-content/uploads/2019/07/IMG_20190703_102238.jpg'],\n  'new': None},\n '6520-3414009': {'from_dt': ['https://deshevle-tut.ru/wp-content/uploads/2019/07/IMG_20190703_102202.jpg'],\n  'new': None},\n '5320-3401090': {'from_dt': ['https://deshevle-tut.ru/wp-content/uploads/2019/07/IMG_20190703_102050.jpg'],\n  'new': None},\n '100-3519100.': {'from_dt': ['https://deshevle-tut.ru/wp-content/uploads/2019/07/IMG_20190703_100154.jpg'],\n  'new': None},\n '4310-3414049': {'from_dt': ['https://deshevle-tut.ru/wp-content/uploads/2019/07/IMG_20190621_125857.jpg'],\n  'new': None},\n '4320Я2-3400022': {'from_dt': ['https://deshevle-tut.ru/wp-content/uploads/2019/07/IMG_20190621_124800.jpg'],\n  'new': None},\n '5320-3414049*': {'from_dt': ['https://deshevle-tut.ru/wp-content/uploads/2019/07/IMG_20190619_153716.jpg'],\n  'new': None},\n '5511-2919012': {'from_dt': ['https://deshevle-tut.ru/wp-content/uploads/2019/07/IMG_20190619_153226.jpg'],\n  'new': None},\n '15-1703204': {'from_dt': ['https://deshevle-tut.ru/wp-content/uploads/2019/07/IMG_20190619_152549.jpg'],\n  'new': None},\n '256Б-3407199': {'from_dt': ['https://deshevle-tut.ru/wp-content/uploads/2019/07/IMG_20190619_151308.jpg'],\n  'new': None},\n '4310-3407200': {'from_dt': ['https://deshevle-tut.ru/wp-content/uploads/2019/07/IMG_20190619_151127.jpg'],\n  'new': None},\n '5320-1609510': {'from_dt': ['https://deshevle-tut.ru/wp-content/uploads/2019/07/IMG_20190619_150954.jpg'],\n  'new': None},\n '238-1601090': {'from_dt': ['https://deshevle-tut.ru/wp-content/uploads/2019/07/IMG_20190619_150744.jpg'],\n  'new': None},\n '740.13-1307010': {'from_dt': ['https://deshevle-tut.ru/wp-content/uploads/2019/08/IMG_20190619_135013.jpg'],\n  'new': None},\n 'HE400WG 3787729, 3785076, 3786237, 13809700027 - HOLSET 3787729': {'from_dt': ['https://deshevle-tut.ru/wp-content/uploads/2019/08/Turbokompressor-schwitzen.jpg'],\n  'new': None},\n '7403-1118010': {'from_dt': ['https://deshevle-tut.ru/wp-content/uploads/2019/08/IMG_0786-22-01-21-12-47.jpg'],\n  'new': None},\n '7406-1118013': {'from_dt': ['https://deshevle-tut.ru/wp-content/uploads/2019/08/IMG_0877-22-01-21-12-49-scaled.jpg'],\n  'new': None},\n 'К27-115-01/02': {'from_dt': ['https://deshevle-tut.ru/wp-content/uploads/2019/08/TKR-k27-115.jpg'],\n  'new': None},\n '4310-3401090': {'from_dt': ['https://deshevle-tut.ru/wp-content/uploads/2019/08/Soshka-gura-4310.jpg'],\n  'new': None},\n '661-3519200': {'from_dt': ['https://deshevle-tut.ru/wp-content/uploads/2019/08/Energoakkumulyatory-tip-24-20.jpg'],\n  'new': None},\n '5511-2919012,': {'from_dt': ['https://deshevle-tut.ru/wp-content/uploads/2019/08/SHtanga-reaktivnaya-5511-2919012.jpg'],\n  'new': None},\n '5511-2918050': {'from_dt': ['https://deshevle-tut.ru/wp-content/uploads/2019/08/Os-balansira.png'],\n  'new': None},\n '453471.021': {'from_dt': ['https://deshevle-tut.ru/wp-content/uploads/2019/08/Nasos-GURa-shnkf.jpg'],\n  'new': None},\n '130-3407200': {'from_dt': ['https://deshevle-tut.ru/wp-content/uploads/2019/08/Nasos-gura-ZIL.jpg'],\n  'new': None},\n '5320-3422010': {'from_dt': ['https://deshevle-tut.ru/wp-content/uploads/2020/07/запчасть-на-фотосессии.jpg'],\n  'new': None},\n '4310-3422010': {'from_dt': ['https://deshevle-tut.ru/wp-content/uploads/2020/07/запчасть-на-фотосессии.jpg'],\n  'new': None},\n '740-1318010': {'from_dt': ['https://deshevle-tut.ru/wp-content/uploads/2020/07/IMG_20200324_112329-scaled.jpg'],\n  'new': None},\n '740.90-1003010': {'from_dt': ['https://deshevle-tut.ru/wp-content/uploads/2020/07/IMG_20190520_103848-scaled.jpg',\n   'https://deshevle-tut.ru/wp-content/uploads/2020/07/IMG_20190520_103848-scaled.jpg'],\n  'new': None},\n '4310-3400020-01': {'from_dt': ['https://deshevle-tut.ru/wp-content/uploads/2020/07/IMG_20200305_075721-scaled.jpg'],\n  'new': None},\n '4310-3400020-03': {'from_dt': ['https://deshevle-tut.ru/wp-content/uploads/2020/07/IMG_20200305_075734-scaled.jpg'],\n  'new': None},\n '64229-3400010-30': {'from_dt': [], 'new': None},\n '64229-3400010-01': {'from_dt': ['https://deshevle-tut.ru/wp-content/uploads/2020/07/IMG_20190514_101136-scaled.jpg'],\n  'new': None},\n '64221-3400010-10': {'from_dt': ['https://deshevle-tut.ru/wp-content/uploads/2020/07/IMG_0552-22-06-20-09-07.jpg'],\n  'new': None},\n '64229-3400010-50': {'from_dt': ['https://deshevle-tut.ru/wp-content/uploads/2020/07/IMG_20190913_130658-scaled.jpg'],\n  'new': None},\n '375-3400022': {'from_dt': ['https://deshevle-tut.ru/wp-content/uploads/2020/07/IMG_20190313_145817-scaled.jpg'],\n  'new': None},\n 'C700 VW 717-110': {'from_dt': ['https://deshevle-tut.ru/wp-content/uploads/2020/07/IMG_20190313_130919-scaled.jpg'],\n  'new': None},\n '238-1601130': {'from_dt': ['https://deshevle-tut.ru/wp-content/uploads/2020/07/IMG_20190313_130637-scaled.jpg'],\n  'new': None},\n '238-1601131': {'from_dt': ['https://deshevle-tut.ru/wp-content/uploads/2020/07/IMG_20190313_130637-scaled.jpg'],\n  'new': None},\n '100-3519110': {'from_dt': ['https://deshevle-tut.ru/wp-content/uploads/2020/07/IMG-20200120-WA0031.jpg'],\n  'new': None},\n '100-3519210': {'from_dt': ['https://deshevle-tut.ru/wp-content/uploads/2020/07/IMG-20200120-WA0031-1.jpg'],\n  'new': None},\n '5320-2506110,': {'from_dt': ['https://deshevle-tut.ru/wp-content/uploads/2020/07/IMG_20190313_131118-scaled.jpg'],\n  'new': None},\n '53205-3509015-02': {'from_dt': ['https://deshevle-tut.ru/wp-content/uploads/2020/07/IMG_20200221_095143-scaled.jpg'],\n  'new': None},\n '53205-3509015-20': {'from_dt': ['https://deshevle-tut.ru/wp-content/uploads/2020/07/f9ba23a2-1f06-4051-9fdc-44ab75adde5b.jpg'],\n  'new': None},\n '5320-3509015': {'from_dt': ['https://deshevle-tut.ru/wp-content/uploads/2020/07/IMG_1093-26-05-21-01-14.jpg'],\n  'new': None},\n '5320-3509015*': {'from_dt': ['https://deshevle-tut.ru/wp-content/uploads/2020/07/IMG_1093-26-05-21-01-14.jpg'],\n  'new': None},\n '5320-3509015**': {'from_dt': ['https://deshevle-tut.ru/wp-content/uploads/2020/07/IMG_20200311_102753-scaled.jpg'],\n  'new': None},\n '5336-350912*': {'from_dt': ['https://deshevle-tut.ru/wp-content/uploads/2020/07/IMG_20200305_104157-scaled.jpg'],\n  'new': None},\n '5336-3509012*': {'from_dt': ['https://deshevle-tut.ru/wp-content/uploads/2020/07/IMG_20200305_094024-scaled.jpg'],\n  'new': None},\n '5336-3509012-10': {'from_dt': ['https://deshevle-tut.ru/wp-content/uploads/2020/07/IMG_20200305_094003-scaled.jpg'],\n  'new': None},\n '130-3509012': {'from_dt': ['https://deshevle-tut.ru/wp-content/uploads/2020/07/IMG_1110-26-05-21-02-18.jpg'],\n  'new': None},\n 'ПК 310': {'from_dt': ['https://deshevle-tut.ru/wp-content/uploads/2020/07/IMG_20200513_080749-scaled.jpg'],\n  'new': None},\n '14-1601090*': {'from_dt': ['https://deshevle-tut.ru/wp-content/uploads/2020/07/Korzina-14--scaled.jpg'],\n  'new': None},\n '14-1601090': {'from_dt': ['https://deshevle-tut.ru/wp-content/uploads/2020/07/Korzina-14--scaled.jpg'],\n  'new': None},\n '142-1601090*': {'from_dt': ['https://deshevle-tut.ru/wp-content/uploads/2020/07/Korzina-141-scaled.jpg'],\n  'new': None},\n '142-1601090': {'from_dt': ['https://deshevle-tut.ru/wp-content/uploads/2020/07/Korzina-14-1-1-scaled.jpg'],\n  'new': None},\n '182-1601090': {'from_dt': ['https://deshevle-tut.ru/wp-content/uploads/2020/07/IMG_20200318_090242-scaled.jpg'],\n  'new': None},\n '184-1601090': {'from_dt': ['https://deshevle-tut.ru/wp-content/uploads/2020/07/IMG-20200120-WA0010.jpg'],\n  'new': None},\n '238-1601090*': {'from_dt': ['https://deshevle-tut.ru/wp-content/uploads/2020/07/IMG-20200120-WA0032.jpg'],\n  'new': None},\n '14-1703204': {'from_dt': ['https://deshevle-tut.ru/wp-content/uploads/2020/07/IMG_1087-26-05-21-01-14.jpg'],\n  'new': None},\n '15-1703204*': {'from_dt': ['https://deshevle-tut.ru/wp-content/uploads/2020/07/IMG_20200513_081055-scaled.jpg'],\n  'new': None},\n '14-1703204*': {'from_dt': ['https://deshevle-tut.ru/wp-content/uploads/2020/07/IMG_1084-26-05-21-01-14.jpg'],\n  'new': None},\n '15-1771010': {'from_dt': ['https://deshevle-tut.ru/wp-content/uploads/2020/07/IMG_20200318_091225-scaled.jpg'],\n  'new': None},\n '5320-2506010*': {'from_dt': ['https://deshevle-tut.ru/wp-content/uploads/2020/07/IMG_1102-26-05-21-01-53.jpg'],\n  'new': None},\n '5320-2506010': {'from_dt': ['https://deshevle-tut.ru/wp-content/uploads/2020/07/IMG_1099-26-05-21-01-53.jpg'],\n  'new': None},\n '53205-2506010*': {'from_dt': ['https://deshevle-tut.ru/wp-content/uploads/2020/07/IMG_20200311_104100-scaled.jpg'],\n  'new': None},\n '53205-2506010**': {'from_dt': ['https://deshevle-tut.ru/wp-content/uploads/2020/07/0839008a-7f15-4428-8d68-8f1bdf9c8bfd.jpg'],\n  'new': None},\n '6520-2506010': {'from_dt': ['https://deshevle-tut.ru/wp-content/uploads/2020/07/IMG_20190313_130801-scaled.jpg'],\n  'new': None},\n '5320-3414057': {'from_dt': ['https://deshevle-tut.ru/wp-content/uploads/2020/07/IMG_0592-scaled.jpg'],\n  'new': None},\n '5320-3414056': {'from_dt': ['https://deshevle-tut.ru/wp-content/uploads/2020/07/image-20-07-20-04-14-scaled.jpeg'],\n  'new': None},\n '740-1307010*': {'from_dt': ['https://deshevle-tut.ru/wp-content/uploads/2020/07/IMG_0525.jpg'],\n  'new': None},\n '740-1307010': {'from_dt': ['https://deshevle-tut.ru/wp-content/uploads/2020/07/IMG_0525.jpg'],\n  'new': None},\n '740.63-1307010': {'from_dt': ['https://deshevle-tut.ru/wp-content/uploads/2020/07/запчасть-на-фотосессии.jpg'],\n  'new': None},\n '236-1307010-А': {'from_dt': ['https://deshevle-tut.ru/wp-content/uploads/2020/07/запчасть-на-фотосессии.jpg'],\n  'new': None},\n '5320-1609510*': {'from_dt': ['https://deshevle-tut.ru/wp-content/uploads/2020/07/IMG_20190903_141035-scaled.jpg'],\n  'new': None},\n '4331-1609509': {'from_dt': ['https://deshevle-tut.ru/wp-content/uploads/2020/07/запчасть-на-фотосессии.jpg'],\n  'new': None},\n 'СТ142Б2-3708000*': {'from_dt': ['https://deshevle-tut.ru/wp-content/uploads/2020/07/IMG_20200221_095421-scaled.jpg'],\n  'new': None},\n 'ст142Б-3708000': {'from_dt': ['https://deshevle-tut.ru/wp-content/uploads/2020/07/IMG_20200221_095326-scaled.jpg'],\n  'new': None},\n '2501-370800-40': {'from_dt': ['https://deshevle-tut.ru/wp-content/uploads/2020/07/IMG_20190514_100641-scaled.jpg'],\n  'new': None},\n 'СТ142Т-3708000': {'from_dt': ['https://deshevle-tut.ru/wp-content/uploads/2020/07/IMG_20200513_080855-scaled.jpg'],\n  'new': None},\n '5320-3414009*': {'from_dt': ['https://deshevle-tut.ru/wp-content/uploads/2020/07/запчасть-на-фотосессии.jpg'],\n  'new': None},\n '5320-3414009': {'from_dt': ['https://deshevle-tut.ru/wp-content/uploads/2020/07/запчасть-на-фотосессии.jpg'],\n  'new': None},\n '53205-3414009': {'from_dt': ['https://deshevle-tut.ru/wp-content/uploads/2020/07/запчасть-на-фотосессии.jpg'],\n  'new': None},\n '5320-3414049': {'from_dt': ['https://deshevle-tut.ru/wp-content/uploads/2019/07/IMG_20190619_153716.jpg'],\n  'new': None},\n '5320-2707210': {'from_dt': ['https://deshevle-tut.ru/wp-content/uploads/2020/07/IMG_0511-21-07-20-10-56.jpg'],\n  'new': None},\n '5511-2919012-01': {'from_dt': ['https://deshevle-tut.ru/wp-content/uploads/2020/07/запчасть-на-фотосессии.jpg'],\n  'new': None},\n '4310-2919012': {'from_dt': ['https://deshevle-tut.ru/wp-content/uploads/2020/07/запчасть-на-фотосессии.jpg'],\n  'new': None},\n '100-3519100*': {'from_dt': ['https://deshevle-tut.ru/wp-content/uploads/2020/07/IMG-20200120-WA0026.jpg'],\n  'new': None},\n '100-3519200*': {'from_dt': ['https://deshevle-tut.ru/wp-content/uploads/2020/07/IMG_20200227_092811-scaled.jpg'],\n  'new': None},\n '100-3519200': {'from_dt': ['https://deshevle-tut.ru/wp-content/uploads/2020/07/IMG_20200227_092811-scaled.jpg'],\n  'new': None},\n '100-3519200.': {'from_dt': ['https://deshevle-tut.ru/wp-content/uploads/2020/07/IMG-20200120-WA0041.jpg'],\n  'new': None},\n '661-3519100*': {'from_dt': ['https://deshevle-tut.ru/wp-content/uploads/2020/07/IMG_1106-26-05-21-02-18.jpg'],\n  'new': None},\n '661-3519200*': {'from_dt': ['https://deshevle-tut.ru/wp-content/uploads/2020/07/IMG_20190312_133304-scaled.jpg'],\n  'new': None},\n '33-1111007': {'from_dt': ['https://deshevle-tut.ru/wp-content/uploads/2020/07/IMG_20200313_113511-scaled.jpg'],\n  'new': None},\n '334-1111005': {'from_dt': ['https://deshevle-tut.ru/wp-content/uploads/2020/07/IMG_20200313_113447-scaled.jpg'],\n  'new': None},\n '337-1111005-20.07': {'from_dt': ['https://deshevle-tut.ru/wp-content/uploads/2020/07/IMG_0598-28-07-20-01-41-e1595933385844.jpg'],\n  'new': None},\n '402 698 818': {'from_dt': ['https://deshevle-tut.ru/wp-content/uploads/2020/07/IMG_0246-28-07-20-01-51.jpg'],\n  'new': None},\n '445 020 089': {'from_dt': ['https://deshevle-tut.ru/wp-content/uploads/2020/07/IMG_0599-28-07-20-01-45.jpg'],\n  'new': None},\n '402 648 608': {'from_dt': ['https://deshevle-tut.ru/wp-content/uploads/2020/07/IMG_0413-28-07-20-01-58.jpg'],\n  'new': None},\n '740.60-1118013/12': {'from_dt': ['https://deshevle-tut.ru/wp-content/uploads/2021/01/e6e38c15-b767-4974-a3c3-c3e8836704ff.jpg'],\n  'new': None},\n 'К27-145-01/02': {'from_dt': ['https://deshevle-tut.ru/wp-content/uploads/2021/01/IMG_0927-03-02-21-02-08.jpg'],\n  'new': None},\n '740.21-1118013': {'from_dt': ['https://deshevle-tut.ru/wp-content/uploads/2020/07/запчасть-на-фотосессии.jpg'],\n  'new': None},\n 'К36-87-01': {'from_dt': ['https://deshevle-tut.ru/wp-content/uploads/2021/01/96bee6c5-c999-4fac-b312-7691b2e22750.jpg'],\n  'new': None},\n '4043980,4955908': {'from_dt': ['https://deshevle-tut.ru/wp-content/uploads/2020/07/запчасть-на-фотосессии.jpg'],\n  'new': None},\n 'ТКР-11Н-3': {'from_dt': ['https://deshevle-tut.ru/wp-content/uploads/2020/07/запчасть-на-фотосессии.jpg'],\n  'new': None},\n '12-1118010': {'from_dt': ['https://deshevle-tut.ru/wp-content/uploads/2020/07/запчасть-на-фотосессии.jpg'],\n  'new': None},\n '314448/50': {'from_dt': ['https://deshevle-tut.ru/wp-content/uploads/2021/01/IMG_1034-16-04-21-09-37.jpg'],\n  'new': None},\n '12749880003': {'from_dt': ['https://deshevle-tut.ru/wp-content/uploads/2020/07/запчасть-на-фотосессии.jpg'],\n  'new': None},\n '33-1111007*': {'from_dt': ['https://deshevle-tut.ru/wp-content/uploads/2020/07/IMG_20200313_113511-scaled.jpg'],\n  'new': None},\n '337-1111005-40': {'from_dt': ['https://deshevle-tut.ru/wp-content/uploads/2021/02/IMG_1438-06-10-21-09-14.jpg'],\n  'new': None},\n '337-1111005-42': {'from_dt': ['https://deshevle-tut.ru/wp-content/uploads/2020/07/запчасть-на-фотосессии.jpg'],\n  'new': None},\n '337-1111005-20': {'from_dt': ['https://deshevle-tut.ru/wp-content/uploads/2021/02/FullSizeRender-28-07-20-02-04.jpg'],\n  'new': None},\n '337-1111005-20.03': {'from_dt': ['https://deshevle-tut.ru/wp-content/uploads/2020/07/запчасть-на-фотосессии.jpg'],\n  'new': None},\n '337-1111005-20.04': {'from_dt': ['https://deshevle-tut.ru/wp-content/uploads/2020/07/запчасть-на-фотосессии.jpg'],\n  'new': None},\n '337-1111005-20.05': {'from_dt': ['https://deshevle-tut.ru/wp-content/uploads/2020/07/запчасть-на-фотосессии.jpg'],\n  'new': None},\n '402648611': {'from_dt': ['https://deshevle-tut.ru/wp-content/uploads/2020/07/запчасть-на-фотосессии.jpg'],\n  'new': None},\n '402648609': {'from_dt': ['https://deshevle-tut.ru/wp-content/uploads/2020/07/запчасть-на-фотосессии.jpg'],\n  'new': None},\n '238/236-1111007': {'from_dt': ['https://deshevle-tut.ru/wp-content/uploads/2021/02/313886eb-8008-4023-be6a-3701d49766c5.jpg'],\n  'new': None},\n '152-1700025': {'from_dt': ['https://deshevle-tut.ru/wp-content/uploads/2021/02/63b6ec8d-cb01-457a-8dc1-2fe18a47a4dd.jpg'],\n  'new': None},\n '154-1700056': {'from_dt': ['https://deshevle-tut.ru/wp-content/uploads/2021/02/3ae0fcfd-8def-46c3-bda8-65f8a5c22fff.jpg'],\n  'new': None},\n '6540-3400020-01': {'from_dt': ['https://deshevle-tut.ru/wp-content/uploads/2021/04/e0a9b48d-4304-446f-b22d-9d7ca409d0d7.jpg'],\n  'new': None},\n '4310-3400020*': {'from_dt': ['https://deshevle-tut.ru/wp-content/uploads/2021/05/IMG_0584-27-05-21-09-54-scaled.jpg'],\n  'new': None},\n '53212-3400020': {'from_dt': ['https://deshevle-tut.ru/wp-content/uploads/2020/07/запчасть-на-фотосессии.jpg'],\n  'new': None},\n '5301-3400020': {'from_dt': ['https://deshevle-tut.ru/wp-content/uploads/2021/05/dfd08f43-a4d7-4149-938c-0b8274036a26.jpg'],\n  'new': None},\n '64229-3400010-60': {'from_dt': ['https://deshevle-tut.ru/wp-content/uploads/2020/07/запчасть-на-фотосессии.jpg'],\n  'new': None},\n 'C700 VW 717-150': {'from_dt': ['https://deshevle-tut.ru/wp-content/uploads/2021/05/IMG_20190315_131613-scaled.jpg'],\n  'new': None},\n 'C700 VW 717-078': {'from_dt': ['https://deshevle-tut.ru/wp-content/uploads/2021/05/IMG_1434-06-10-21-09-03.jpg'],\n  'new': None},\n '6.1-7.01': {'from_dt': ['https://deshevle-tut.ru/wp-content/uploads/2020/07/запчасть-на-фотосессии.jpg'],\n  'new': None},\n '6.5.1-17.01.03': {'from_dt': ['https://deshevle-tut.ru/wp-content/uploads/2020/07/запчасть-на-фотосессии.jpg'],\n  'new': None},\n '4043976/2835142/4955962/3782369/3782376/HE221W': {'from_dt': ['https://deshevle-tut.ru/wp-content/uploads/2020/07/запчасть-на-фотосессии.jpg'],\n  'new': None}}"
     },
     "execution_count": 10,
     "metadata": {},
     "output_type": "execute_result"
    }
   ],
   "source": [
    "images = list(data['Изображения'])\n",
    "vendor_codes = list(data['Артикул'])\n",
    "\n",
    "my_dict = {} # {vendor_code: {'from_dt': [url1, url2], 'new': url}\n",
    "for i in range(len(vendor_codes)):\n",
    "    _images = images[i].split(', ') if type(images[i]) != float else []\n",
    "    my_dict[vendor_codes[i]] = {'from_dt': _images, 'new': None}\n",
    "\n",
    "my_dict"
   ],
   "metadata": {
    "collapsed": false,
    "pycharm": {
     "name": "#%%\n"
    }
   }
  },
  {
   "cell_type": "code",
   "execution_count": 21,
   "outputs": [
    {
     "data": {
      "text/plain": "products:   0%|          | 0/154 [00:00<?, ?it/s]",
      "application/vnd.jupyter.widget-view+json": {
       "version_major": 2,
       "version_minor": 0,
       "model_id": "9913b79b06fa45819698d8a5376d0ee8"
      }
     },
     "metadata": {},
     "output_type": "display_data"
    }
   ],
   "source": [
    "import requests\n",
    "import time\n",
    "from tqdm.notebook import tqdm\n",
    "\n",
    "for key in tqdm(my_dict, desc='products'):\n",
    "    _images = my_dict[key]['from_dt']\n",
    "    new_images = []\n",
    "    for img_url in _images:\n",
    "        p = requests.get(img_url)\n",
    "        file_name = img_url.split('/')[-1]\n",
    "        new_images.append(file_name)\n",
    "        with open(f\"./photos/{file_name}\", \"wb\") as file:\n",
    "            file.write(p.content)\n",
    "        time.sleep(1)\n",
    "    my_dict[key]['new'] = new_images"
   ],
   "metadata": {
    "collapsed": false,
    "pycharm": {
     "name": "#%%\n"
    }
   }
  },
  {
   "cell_type": "code",
   "execution_count": 31,
   "outputs": [],
   "source": [
    "import json\n",
    "with open(\"./data.json\", \"w\", encoding=\"utf-8\") as file:\n",
    "    json.dump(my_dict, file, ensure_ascii=False)"
   ],
   "metadata": {
    "collapsed": false,
    "pycharm": {
     "name": "#%%\n"
    }
   }
  },
  {
   "cell_type": "code",
   "execution_count": 36,
   "outputs": [],
   "source": [
    "from PIL import Image\n",
    "\n",
    "def scale_image(input_image_path, output_image_path, width=None, height=None):\n",
    "    original_image = Image.open(input_image_path)\n",
    "    w, h = original_image.size\n",
    "\n",
    "    if width and height:\n",
    "        max_size = (width, height)\n",
    "    elif width:\n",
    "        max_size = (width, h)\n",
    "    elif height:\n",
    "        max_size = (w, height)\n",
    "    else:\n",
    "        # No width or height specified\n",
    "        raise RuntimeError('Width or height required!')\n",
    "\n",
    "    original_image.thumbnail(max_size, Image.ANTIALIAS)\n",
    "    original_image.save(output_image_path, quality=80)"
   ],
   "metadata": {
    "collapsed": false,
    "pycharm": {
     "name": "#%%\n"
    }
   }
  },
  {
   "cell_type": "code",
   "execution_count": 37,
   "outputs": [
    {
     "data": {
      "text/plain": "products:   0%|          | 0/154 [00:00<?, ?it/s]",
      "application/vnd.jupyter.widget-view+json": {
       "version_major": 2,
       "version_minor": 0,
       "model_id": "51247352614c4c5399c5adfd6f3eebe9"
      }
     },
     "metadata": {},
     "output_type": "display_data"
    },
    {
     "name": "stdout",
     "output_type": "stream",
     "text": [
      "e0a9b48d-4304-446f-b22d-9d7ca409d0d7.jpg\n",
      "('image file is truncated (0 bytes not processed)',)\n"
     ]
    }
   ],
   "source": [
    "for key in tqdm(my_dict, desc='products'):\n",
    "    for img_name in my_dict[key]['new']:\n",
    "        try:\n",
    "            scale_image(f'./photos/original/{img_name}', f'./photos/128/128__{img_name}', 128)\n",
    "            scale_image(f'./photos/original/{img_name}', f'./photos/432/432__{img_name}', 432)\n",
    "        except Exception as q:\n",
    "            print(img_name, q.args, sep='\\n')"
   ],
   "metadata": {
    "collapsed": false,
    "pycharm": {
     "name": "#%%\n"
    }
   }
  },
  {
   "cell_type": "code",
   "execution_count": null,
   "outputs": [],
   "source": [],
   "metadata": {
    "collapsed": false,
    "pycharm": {
     "name": "#%%\n"
    }
   }
  }
 ],
 "metadata": {
  "kernelspec": {
   "display_name": "Python 3",
   "language": "python",
   "name": "python3"
  },
  "language_info": {
   "codemirror_mode": {
    "name": "ipython",
    "version": 2
   },
   "file_extension": ".py",
   "mimetype": "text/x-python",
   "name": "python",
   "nbconvert_exporter": "python",
   "pygments_lexer": "ipython2",
   "version": "2.7.6"
  }
 },
 "nbformat": 4,
 "nbformat_minor": 0
}