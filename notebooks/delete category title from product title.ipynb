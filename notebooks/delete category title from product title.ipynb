{
 "cells": [
  {
   "cell_type": "code",
   "execution_count": 9,
   "outputs": [],
   "source": [
    "import pandas as pd"
   ],
   "metadata": {
    "collapsed": false,
    "pycharm": {
     "name": "#%%\n"
    }
   }
  },
  {
   "cell_type": "code",
   "execution_count": 10,
   "outputs": [
    {
     "data": {
      "text/plain": "       id  created_at  updated_at  deleted_at  category  spare_parts_unit  \\\n0  183817         NaN         NaN         NaN         1                 1   \n1  183818         NaN         NaN         NaN         1                 1   \n2  183819         NaN         NaN         NaN         1                 1   \n3  183820         NaN         NaN         NaN         1                 1   \n4  183821         NaN         NaN         NaN         1                 1   \n\n                                       title   vendor_code  \\\n0     Башмак балансира с аллюминевой втулкой  5511-2918068   \n1       Башмак балансира с бронзовой втулкой  5511-2918068   \n2  Башмак балансира с фторопластовой втулкой  5511-2918068   \n3                      Вал карданный рулевой  5320-3422010   \n4                      Вал карданный рулевой  4310-3422010   \n\n                        description                 short_description   price  \\\n0                                 0                                 0  4800.0   \n1                                 0                                 0  6100.0   \n2                                 0                                 0  5150.0   \n3  Вал карданный рулевой КАМАЗ 5320  Вал карданный рулевой КАМАЗ 5320  1550.0   \n4  Вал карданный рулевой КАМАЗ 4310  Вал карданный рулевой КАМАЗ 4310  1900.0   \n\n                        image_original                            image_128  \\\n0                                    0                                    0   \n1                                    0                                    0   \n2                                    0                                    0   \n3  original/запчасть-на-фотосессии.jpg  128/128__запчасть-на-фотосессии.jpg   \n4  original/запчасть-на-фотосессии.jpg  128/128__запчасть-на-фотосессии.jpg   \n\n                             image_432  can_to_view  \n0                                    0         True  \n1                                    0         True  \n2                                    0         True  \n3  432/432__запчасть-на-фотосессии.jpg         True  \n4  432/432__запчасть-на-фотосессии.jpg         True  ",
      "text/html": "<div>\n<style scoped>\n    .dataframe tbody tr th:only-of-type {\n        vertical-align: middle;\n    }\n\n    .dataframe tbody tr th {\n        vertical-align: top;\n    }\n\n    .dataframe thead th {\n        text-align: right;\n    }\n</style>\n<table border=\"1\" class=\"dataframe\">\n  <thead>\n    <tr style=\"text-align: right;\">\n      <th></th>\n      <th>id</th>\n      <th>created_at</th>\n      <th>updated_at</th>\n      <th>deleted_at</th>\n      <th>category</th>\n      <th>spare_parts_unit</th>\n      <th>title</th>\n      <th>vendor_code</th>\n      <th>description</th>\n      <th>short_description</th>\n      <th>price</th>\n      <th>image_original</th>\n      <th>image_128</th>\n      <th>image_432</th>\n      <th>can_to_view</th>\n    </tr>\n  </thead>\n  <tbody>\n    <tr>\n      <th>0</th>\n      <td>183817</td>\n      <td>NaN</td>\n      <td>NaN</td>\n      <td>NaN</td>\n      <td>1</td>\n      <td>1</td>\n      <td>Башмак балансира с аллюминевой втулкой</td>\n      <td>5511-2918068</td>\n      <td>0</td>\n      <td>0</td>\n      <td>4800.0</td>\n      <td>0</td>\n      <td>0</td>\n      <td>0</td>\n      <td>True</td>\n    </tr>\n    <tr>\n      <th>1</th>\n      <td>183818</td>\n      <td>NaN</td>\n      <td>NaN</td>\n      <td>NaN</td>\n      <td>1</td>\n      <td>1</td>\n      <td>Башмак балансира с бронзовой втулкой</td>\n      <td>5511-2918068</td>\n      <td>0</td>\n      <td>0</td>\n      <td>6100.0</td>\n      <td>0</td>\n      <td>0</td>\n      <td>0</td>\n      <td>True</td>\n    </tr>\n    <tr>\n      <th>2</th>\n      <td>183819</td>\n      <td>NaN</td>\n      <td>NaN</td>\n      <td>NaN</td>\n      <td>1</td>\n      <td>1</td>\n      <td>Башмак балансира с фторопластовой втулкой</td>\n      <td>5511-2918068</td>\n      <td>0</td>\n      <td>0</td>\n      <td>5150.0</td>\n      <td>0</td>\n      <td>0</td>\n      <td>0</td>\n      <td>True</td>\n    </tr>\n    <tr>\n      <th>3</th>\n      <td>183820</td>\n      <td>NaN</td>\n      <td>NaN</td>\n      <td>NaN</td>\n      <td>1</td>\n      <td>1</td>\n      <td>Вал карданный рулевой</td>\n      <td>5320-3422010</td>\n      <td>Вал карданный рулевой КАМАЗ 5320</td>\n      <td>Вал карданный рулевой КАМАЗ 5320</td>\n      <td>1550.0</td>\n      <td>original/запчасть-на-фотосессии.jpg</td>\n      <td>128/128__запчасть-на-фотосессии.jpg</td>\n      <td>432/432__запчасть-на-фотосессии.jpg</td>\n      <td>True</td>\n    </tr>\n    <tr>\n      <th>4</th>\n      <td>183821</td>\n      <td>NaN</td>\n      <td>NaN</td>\n      <td>NaN</td>\n      <td>1</td>\n      <td>1</td>\n      <td>Вал карданный рулевой</td>\n      <td>4310-3422010</td>\n      <td>Вал карданный рулевой КАМАЗ 4310</td>\n      <td>Вал карданный рулевой КАМАЗ 4310</td>\n      <td>1900.0</td>\n      <td>original/запчасть-на-фотосессии.jpg</td>\n      <td>128/128__запчасть-на-фотосессии.jpg</td>\n      <td>432/432__запчасть-на-фотосессии.jpg</td>\n      <td>True</td>\n    </tr>\n  </tbody>\n</table>\n</div>"
     },
     "execution_count": 10,
     "metadata": {},
     "output_type": "execute_result"
    }
   ],
   "source": [
    "data = pd.read_csv('datasets/shop_public_products.csv')\n",
    "\n",
    "data.head()"
   ],
   "metadata": {
    "collapsed": false,
    "pycharm": {
     "name": "#%%\n"
    }
   }
  },
  {
   "cell_type": "code",
   "execution_count": 11,
   "outputs": [],
   "source": [
    "categories = ['КамАЗ', 'МАЗ', 'ЗИЛ', 'Зил', 'УРАЛ', 'Урал', 'ПАЗ', 'ГАЗ', 'КАМАЗ', 'камаз']\n",
    "\n",
    "for category in categories:\n",
    "    data['title'] = data['title'].replace(category, '', regex=True)\n",
    "\n",
    "data.to_csv('./data_with_out_company_title_in_product_title.csv')"
   ],
   "metadata": {
    "collapsed": false,
    "pycharm": {
     "name": "#%%\n"
    }
   }
  },
  {
   "cell_type": "code",
   "execution_count": 11,
   "outputs": [],
   "source": [],
   "metadata": {
    "collapsed": false,
    "pycharm": {
     "name": "#%%\n"
    }
   }
  }
 ],
 "metadata": {
  "kernelspec": {
   "display_name": "Python 3",
   "language": "python",
   "name": "python3"
  },
  "language_info": {
   "codemirror_mode": {
    "name": "ipython",
    "version": 2
   },
   "file_extension": ".py",
   "mimetype": "text/x-python",
   "name": "python",
   "nbconvert_exporter": "python",
   "pygments_lexer": "ipython2",
   "version": "2.7.6"
  }
 },
 "nbformat": 4,
 "nbformat_minor": 0
}